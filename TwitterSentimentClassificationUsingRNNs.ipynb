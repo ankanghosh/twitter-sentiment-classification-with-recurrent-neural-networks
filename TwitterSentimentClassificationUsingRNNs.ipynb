{
  "nbformat": 4,
  "nbformat_minor": 0,
  "metadata": {
    "colab": {
      "provenance": [],
      "gpuType": "V28",
      "include_colab_link": true
    },
    "kernelspec": {
      "name": "python3",
      "display_name": "Python 3"
    },
    "language_info": {
      "name": "python"
    },
    "accelerator": "TPU"
  },
  "cells": [
    {
      "cell_type": "markdown",
      "metadata": {
        "id": "view-in-github",
        "colab_type": "text"
      },
      "source": [
        "<a href=\"https://colab.research.google.com/github/ankanghosh/twitter-sentiment-classification-with-recurrent-neural-networks/blob/main/TwitterSentimentClassificationUsingRNNs.ipynb\" target=\"_parent\"><img src=\"https://colab.research.google.com/assets/colab-badge.svg\" alt=\"Open In Colab\"/></a>"
      ]
    },
    {
      "cell_type": "markdown",
      "source": [
        "# Twitter Sentiment Classification using RNNs"
      ],
      "metadata": {
        "id": "6M3YThq4Eo0-"
      }
    },
    {
      "cell_type": "markdown",
      "source": [
        "## Introduction"
      ],
      "metadata": {
        "id": "Pl3ut1yDFz8k"
      }
    },
    {
      "cell_type": "markdown",
      "source": [
        "We will use the [Sentiment140 dataset](http://cs.stanford.edu/people/alecmgo/trainingandtestdata.zip) to classify the sentiment of Twitter messages using Recurrent Neural Networks (RNNs). While Twitter has been rebranded to *X*, the messages in the dataset are from 2009, when Twitter was *Twitter* and tweets were limited to 140 characters. We will therefore refer to *X* as *Twitter* in this work.\n",
        "\n",
        "Sentiment140 allows us to discover the sentiment of a brand, product, or topic on Twitter.\n",
        "\n",
        "Each of the training and test data comprise of a CSV file with emoticons removed. More [here](https://www.tensorflow.org/datasets/catalog/sentiment140).\n",
        "\n",
        "Note: The [TensorFlow dataset link](https://www.tensorflow.org/datasets/catalog/sentiment140) does state that the labels included in the dataset are 0 *(negative)*, 2 *(neutral)*, and 4 *(positive)*. However, the training dataset currently contains the labels 0 *(negative)* and 4 *(positive)*. The test dataset additionally contains the label 2 *(neutral)*, apart from 0 *(negative)* and 4 *(positive)*."
      ],
      "metadata": {
        "id": "cQ2Pm6EoF269"
      }
    },
    {
      "cell_type": "markdown",
      "source": [
        "## Data and computing resources"
      ],
      "metadata": {
        "id": "w4KtJqE5UueS"
      }
    },
    {
      "cell_type": "markdown",
      "source": [
        "We will first go ahead and [download](http://cs.stanford.edu/people/alecmgo/trainingandtestdata.zip) the data and upload it in Google Drive. Of course, we could use the local Colab environment to store the data. However, the data is roughly of 240 MB in size (~ 1.6 million tweets) and uploading the same to Colab everytime the runtime restarts or is disconnected or is reassigned is not worth the wait.\n",
        "\n",
        "Additionally, we will require a considerable amount of computing power or RAM for processing the data (text tokenization) and for fitting the RNN model (sentiment classifier), which is not available with the free tier of Colab. We will therefore need to [upgrade](https://colab.research.google.com/signup) to *Colab Pro* or go for *Pay As you Go*, as we will need to use a GPU or a TPU to process the data and to build the model.\n",
        "\n",
        "We will be using a TPU in this work, as it is relatively cheaper than the GPUs available in the Colab environment and also because we would be leveraging TensorFlow's distributed computing capacity to optimize the training time and resources. This can be achieved by navigating as follows.\n",
        "*   Go to Runtime --> Change runtime type -->\n",
        "Select TPU v2 under Hardware accelerator.\n",
        "\n",
        "We can always monitor the usage of the resources we have selected as follows.\n",
        "*   Go to Runtime --> View resources.\n",
        "\n",
        "With about ~1.6 million tweets to be used for training the RNN model, we are looking at huge costs in terms of computation and time. To optimize the use of computational resources and to minimize the time and cost required to train our model, we will use distributed computing or parallel processing on a TPU."
      ],
      "metadata": {
        "id": "q0XoQwT4P7RN"
      }
    },
    {
      "cell_type": "markdown",
      "source": [
        "## Getting started"
      ],
      "metadata": {
        "id": "-iPxgAb_9-Qk"
      }
    },
    {
      "cell_type": "markdown",
      "source": [
        "Let us load the relevant Python libaries."
      ],
      "metadata": {
        "id": "Soxh8OEYFiap"
      }
    },
    {
      "cell_type": "code",
      "execution_count": null,
      "metadata": {
        "id": "_6pCE8Q2sNyL"
      },
      "outputs": [],
      "source": [
        "import tensorflow as tf\n",
        "from tensorflow import keras\n",
        "from tensorflow.keras import layers\n",
        "from tensorflow.keras.callbacks import EarlyStopping, ReduceLROnPlateau\n",
        "from google.colab import drive\n",
        "import pandas as pds\n",
        "import csv\n",
        "from sklearn.model_selection import train_test_split\n",
        "import matplotlib.pyplot as plt\n",
        "from sklearn.metrics import confusion_matrix\n",
        "import seaborn as sns"
      ]
    },
    {
      "cell_type": "markdown",
      "source": [
        "## Fetch and read the data"
      ],
      "metadata": {
        "id": "7p9mU7C9tArM"
      }
    },
    {
      "cell_type": "markdown",
      "source": [
        "Define the paths to import the training and test data from Google Drive. Additionally, we'll also create cleaned-up versions of our training and test data and save those in the same folder on Google Drive as the datasets."
      ],
      "metadata": {
        "id": "hnI0JuBBZYdA"
      }
    },
    {
      "cell_type": "code",
      "source": [
        "# Import the dataset from Google Drive.\n",
        "drive.mount('/content/drive')\n",
        "\n",
        "# Define the file paths for the training data and its cleaned-up version.\n",
        "input_train_file_path = '/content/drive/MyDrive/Datasets/Sentiment140/trainingandtestdata/training.1600000.processed.noemoticon.csv'\n",
        "output_train_file_path = '/content/drive/MyDrive/Datasets/Sentiment140/trainingandtestdata/cleaned.training.1600000.processed.noemoticon.csv'\n",
        "\n",
        "# Define the file paths for the test data and its cleaned-up version.\n",
        "input_test_file_path = '/content/drive/MyDrive/Datasets/Sentiment140/trainingandtestdata/testdata.manual.2009.06.14.csv'\n",
        "output_test_file_path = '/content/drive/MyDrive/Datasets/Sentiment140/trainingandtestdata/cleaned.testdata.manual.2009.06.14.csv'"
      ],
      "metadata": {
        "id": "B8LeinGrSsdu",
        "colab": {
          "base_uri": "https://localhost:8080/"
        },
        "outputId": "48ca0c5c-67f5-4d0f-ff35-b5f3c2cb0e70"
      },
      "execution_count": null,
      "outputs": [
        {
          "output_type": "stream",
          "name": "stdout",
          "text": [
            "Drive already mounted at /content/drive; to attempt to forcibly remount, call drive.mount(\"/content/drive\", force_remount=True).\n"
          ]
        }
      ]
    },
    {
      "cell_type": "markdown",
      "source": [
        "### Clean the data"
      ],
      "metadata": {
        "id": "vQ1caWuouHVm"
      }
    },
    {
      "cell_type": "markdown",
      "source": [
        "To avoid running into potential issues with the original data, we will go ahead and read the training and test data manually, line-by-line, to identify and filter out the problemactic rows and store the cleaned-up data in a new CSV file."
      ],
      "metadata": {
        "id": "xAb-WFnZazUv"
      }
    },
    {
      "cell_type": "code",
      "source": [
        "# Read the training and test datasets line-by-line to identify problematic rows.\n",
        "# Manually filter out problematic rows and create a clean version of the CSV data file.\n",
        "\n",
        "def clean_data(input_file_path, output_file_path):\n",
        "    with open(input_file_path, 'r', encoding='ISO-8859-1') as infile, open(output_file_path, 'w', encoding='ISO-8859-1', newline='') as outfile:\n",
        "        reader = csv.reader(infile)\n",
        "        writer = csv.writer(outfile)\n",
        "\n",
        "        for row in reader:\n",
        "            try:\n",
        "                writer.writerow(row)\n",
        "            except csv.Error as e:\n",
        "                print(f'Error processing row: {row}')\n",
        "                continue"
      ],
      "metadata": {
        "id": "qxBvAt7RPT9V"
      },
      "execution_count": null,
      "outputs": []
    },
    {
      "cell_type": "markdown",
      "source": [
        "Let us go ahead and clean the training and test data."
      ],
      "metadata": {
        "id": "DW-dzVe6uVnC"
      }
    },
    {
      "cell_type": "code",
      "source": [
        "# Clean the training data.\n",
        "clean_data(input_train_file_path, output_train_file_path)\n",
        "\n",
        "# Clean the test data.\n",
        "clean_data(input_test_file_path, output_test_file_path)"
      ],
      "metadata": {
        "id": "nTn1NKqeV7Ks"
      },
      "execution_count": null,
      "outputs": []
    },
    {
      "cell_type": "markdown",
      "source": [
        "We will now go ahead and read the new, cleaned-up training and test data."
      ],
      "metadata": {
        "id": "hGzsoqIquP7A"
      }
    },
    {
      "cell_type": "code",
      "source": [
        "# Read the training data into a pandas DataFrame.\n",
        "raw_train_dataset = pds.read_csv(output_train_file_path, na_values='?', sep=',',\n",
        "                           skipinitialspace=True, encoding='ISO-8859-1')\n",
        "\n",
        "# Read the test data into a pandas DataFrame.\n",
        "raw_test_dataset = pds.read_csv(output_test_file_path, na_values='?', sep=',',\n",
        "                           skipinitialspace=True, encoding='ISO-8859-1')"
      ],
      "metadata": {
        "id": "Xayv93b92036"
      },
      "execution_count": null,
      "outputs": []
    },
    {
      "cell_type": "markdown",
      "source": [
        "### Inspect the data"
      ],
      "metadata": {
        "id": "IONaXQFevMRr"
      }
    },
    {
      "cell_type": "markdown",
      "source": [
        "Let us first confirm the size of the training and test datasets in terms of the number of examples / rows in them."
      ],
      "metadata": {
        "id": "5uu6izsjPeZW"
      }
    },
    {
      "cell_type": "code",
      "source": [
        "# Confirm the number of rows / examples in the training dataset.\n",
        "num_examples_train = raw_train_dataset.shape[0]\n",
        "print(\"Number of training examples:\", num_examples_train)"
      ],
      "metadata": {
        "colab": {
          "base_uri": "https://localhost:8080/"
        },
        "id": "FC6fHlEIN3Pf",
        "outputId": "a75e892b-79f2-400a-fb66-f3ea7aa53a1e"
      },
      "execution_count": null,
      "outputs": [
        {
          "output_type": "stream",
          "name": "stdout",
          "text": [
            "Number of training examples: 1599999\n"
          ]
        }
      ]
    },
    {
      "cell_type": "code",
      "source": [
        "# Confirm the number of rows / examples in the test dataset.\n",
        "num_examples_test = raw_test_dataset.shape[0]\n",
        "print(\"Number of test examples:\", num_examples_test)"
      ],
      "metadata": {
        "colab": {
          "base_uri": "https://localhost:8080/"
        },
        "id": "NpFUEM0RN6IC",
        "outputId": "5e4a4240-a6bc-4309-a547-8fa99056e718"
      },
      "execution_count": null,
      "outputs": [
        {
          "output_type": "stream",
          "name": "stdout",
          "text": [
            "Number of test examples: 497\n"
          ]
        }
      ]
    },
    {
      "cell_type": "markdown",
      "source": [
        "The next step is to investigate the cleaned-up training and test data for further analysis."
      ],
      "metadata": {
        "id": "nNScXpm-xu6D"
      }
    },
    {
      "cell_type": "code",
      "source": [
        "# Display the first few rows of the training dataset to verify.\n",
        "raw_train_dataset.head()"
      ],
      "metadata": {
        "id": "9NuNzBJHV7vo",
        "colab": {
          "base_uri": "https://localhost:8080/",
          "height": 310
        },
        "outputId": "77daea5f-4f9e-4c79-823c-43f0ee88fb60"
      },
      "execution_count": null,
      "outputs": [
        {
          "output_type": "execute_result",
          "data": {
            "text/plain": [
              "   0  1467810369  Mon Apr 06 22:19:45 PDT 2009  NO_QUERY _TheSpecialOne_  \\\n",
              "0  0  1467810672  Mon Apr 06 22:19:49 PDT 2009  NO_QUERY   scotthamilton   \n",
              "1  0  1467810917  Mon Apr 06 22:19:53 PDT 2009  NO_QUERY        mattycus   \n",
              "2  0  1467811184  Mon Apr 06 22:19:57 PDT 2009  NO_QUERY         ElleCTF   \n",
              "3  0  1467811193  Mon Apr 06 22:19:57 PDT 2009  NO_QUERY          Karoli   \n",
              "4  0  1467811372  Mon Apr 06 22:20:00 PDT 2009  NO_QUERY        joy_wolf   \n",
              "\n",
              "  @switchfoot http://twitpic.com/2y1zl - Awww, that's a bummer.  You shoulda got David Carr of Third Day to do it. ;D  \n",
              "0  is upset that he can't update his Facebook by ...                                                                   \n",
              "1  @Kenichan I dived many times for the ball. Man...                                                                   \n",
              "2    my whole body feels itchy and like its on fire                                                                    \n",
              "3  @nationwideclass no, it's not behaving at all....                                                                   \n",
              "4                      @Kwesidei not the whole crew                                                                    "
            ],
            "text/html": [
              "\n",
              "  <div id=\"df-1cc8d9b1-f60a-4ba5-a026-dbd173eef606\" class=\"colab-df-container\">\n",
              "    <div>\n",
              "<style scoped>\n",
              "    .dataframe tbody tr th:only-of-type {\n",
              "        vertical-align: middle;\n",
              "    }\n",
              "\n",
              "    .dataframe tbody tr th {\n",
              "        vertical-align: top;\n",
              "    }\n",
              "\n",
              "    .dataframe thead th {\n",
              "        text-align: right;\n",
              "    }\n",
              "</style>\n",
              "<table border=\"1\" class=\"dataframe\">\n",
              "  <thead>\n",
              "    <tr style=\"text-align: right;\">\n",
              "      <th></th>\n",
              "      <th>0</th>\n",
              "      <th>1467810369</th>\n",
              "      <th>Mon Apr 06 22:19:45 PDT 2009</th>\n",
              "      <th>NO_QUERY</th>\n",
              "      <th>_TheSpecialOne_</th>\n",
              "      <th>@switchfoot http://twitpic.com/2y1zl - Awww, that's a bummer.  You shoulda got David Carr of Third Day to do it. ;D</th>\n",
              "    </tr>\n",
              "  </thead>\n",
              "  <tbody>\n",
              "    <tr>\n",
              "      <th>0</th>\n",
              "      <td>0</td>\n",
              "      <td>1467810672</td>\n",
              "      <td>Mon Apr 06 22:19:49 PDT 2009</td>\n",
              "      <td>NO_QUERY</td>\n",
              "      <td>scotthamilton</td>\n",
              "      <td>is upset that he can't update his Facebook by ...</td>\n",
              "    </tr>\n",
              "    <tr>\n",
              "      <th>1</th>\n",
              "      <td>0</td>\n",
              "      <td>1467810917</td>\n",
              "      <td>Mon Apr 06 22:19:53 PDT 2009</td>\n",
              "      <td>NO_QUERY</td>\n",
              "      <td>mattycus</td>\n",
              "      <td>@Kenichan I dived many times for the ball. Man...</td>\n",
              "    </tr>\n",
              "    <tr>\n",
              "      <th>2</th>\n",
              "      <td>0</td>\n",
              "      <td>1467811184</td>\n",
              "      <td>Mon Apr 06 22:19:57 PDT 2009</td>\n",
              "      <td>NO_QUERY</td>\n",
              "      <td>ElleCTF</td>\n",
              "      <td>my whole body feels itchy and like its on fire</td>\n",
              "    </tr>\n",
              "    <tr>\n",
              "      <th>3</th>\n",
              "      <td>0</td>\n",
              "      <td>1467811193</td>\n",
              "      <td>Mon Apr 06 22:19:57 PDT 2009</td>\n",
              "      <td>NO_QUERY</td>\n",
              "      <td>Karoli</td>\n",
              "      <td>@nationwideclass no, it's not behaving at all....</td>\n",
              "    </tr>\n",
              "    <tr>\n",
              "      <th>4</th>\n",
              "      <td>0</td>\n",
              "      <td>1467811372</td>\n",
              "      <td>Mon Apr 06 22:20:00 PDT 2009</td>\n",
              "      <td>NO_QUERY</td>\n",
              "      <td>joy_wolf</td>\n",
              "      <td>@Kwesidei not the whole crew</td>\n",
              "    </tr>\n",
              "  </tbody>\n",
              "</table>\n",
              "</div>\n",
              "    <div class=\"colab-df-buttons\">\n",
              "\n",
              "  <div class=\"colab-df-container\">\n",
              "    <button class=\"colab-df-convert\" onclick=\"convertToInteractive('df-1cc8d9b1-f60a-4ba5-a026-dbd173eef606')\"\n",
              "            title=\"Convert this dataframe to an interactive table.\"\n",
              "            style=\"display:none;\">\n",
              "\n",
              "  <svg xmlns=\"http://www.w3.org/2000/svg\" height=\"24px\" viewBox=\"0 -960 960 960\">\n",
              "    <path d=\"M120-120v-720h720v720H120Zm60-500h600v-160H180v160Zm220 220h160v-160H400v160Zm0 220h160v-160H400v160ZM180-400h160v-160H180v160Zm440 0h160v-160H620v160ZM180-180h160v-160H180v160Zm440 0h160v-160H620v160Z\"/>\n",
              "  </svg>\n",
              "    </button>\n",
              "\n",
              "  <style>\n",
              "    .colab-df-container {\n",
              "      display:flex;\n",
              "      gap: 12px;\n",
              "    }\n",
              "\n",
              "    .colab-df-convert {\n",
              "      background-color: #E8F0FE;\n",
              "      border: none;\n",
              "      border-radius: 50%;\n",
              "      cursor: pointer;\n",
              "      display: none;\n",
              "      fill: #1967D2;\n",
              "      height: 32px;\n",
              "      padding: 0 0 0 0;\n",
              "      width: 32px;\n",
              "    }\n",
              "\n",
              "    .colab-df-convert:hover {\n",
              "      background-color: #E2EBFA;\n",
              "      box-shadow: 0px 1px 2px rgba(60, 64, 67, 0.3), 0px 1px 3px 1px rgba(60, 64, 67, 0.15);\n",
              "      fill: #174EA6;\n",
              "    }\n",
              "\n",
              "    .colab-df-buttons div {\n",
              "      margin-bottom: 4px;\n",
              "    }\n",
              "\n",
              "    [theme=dark] .colab-df-convert {\n",
              "      background-color: #3B4455;\n",
              "      fill: #D2E3FC;\n",
              "    }\n",
              "\n",
              "    [theme=dark] .colab-df-convert:hover {\n",
              "      background-color: #434B5C;\n",
              "      box-shadow: 0px 1px 3px 1px rgba(0, 0, 0, 0.15);\n",
              "      filter: drop-shadow(0px 1px 2px rgba(0, 0, 0, 0.3));\n",
              "      fill: #FFFFFF;\n",
              "    }\n",
              "  </style>\n",
              "\n",
              "    <script>\n",
              "      const buttonEl =\n",
              "        document.querySelector('#df-1cc8d9b1-f60a-4ba5-a026-dbd173eef606 button.colab-df-convert');\n",
              "      buttonEl.style.display =\n",
              "        google.colab.kernel.accessAllowed ? 'block' : 'none';\n",
              "\n",
              "      async function convertToInteractive(key) {\n",
              "        const element = document.querySelector('#df-1cc8d9b1-f60a-4ba5-a026-dbd173eef606');\n",
              "        const dataTable =\n",
              "          await google.colab.kernel.invokeFunction('convertToInteractive',\n",
              "                                                    [key], {});\n",
              "        if (!dataTable) return;\n",
              "\n",
              "        const docLinkHtml = 'Like what you see? Visit the ' +\n",
              "          '<a target=\"_blank\" href=https://colab.research.google.com/notebooks/data_table.ipynb>data table notebook</a>'\n",
              "          + ' to learn more about interactive tables.';\n",
              "        element.innerHTML = '';\n",
              "        dataTable['output_type'] = 'display_data';\n",
              "        await google.colab.output.renderOutput(dataTable, element);\n",
              "        const docLink = document.createElement('div');\n",
              "        docLink.innerHTML = docLinkHtml;\n",
              "        element.appendChild(docLink);\n",
              "      }\n",
              "    </script>\n",
              "  </div>\n",
              "\n",
              "\n",
              "<div id=\"df-21a7c2c9-c067-4c0c-a8e6-c0a98fb82e5f\">\n",
              "  <button class=\"colab-df-quickchart\" onclick=\"quickchart('df-21a7c2c9-c067-4c0c-a8e6-c0a98fb82e5f')\"\n",
              "            title=\"Suggest charts\"\n",
              "            style=\"display:none;\">\n",
              "\n",
              "<svg xmlns=\"http://www.w3.org/2000/svg\" height=\"24px\"viewBox=\"0 0 24 24\"\n",
              "     width=\"24px\">\n",
              "    <g>\n",
              "        <path d=\"M19 3H5c-1.1 0-2 .9-2 2v14c0 1.1.9 2 2 2h14c1.1 0 2-.9 2-2V5c0-1.1-.9-2-2-2zM9 17H7v-7h2v7zm4 0h-2V7h2v10zm4 0h-2v-4h2v4z\"/>\n",
              "    </g>\n",
              "</svg>\n",
              "  </button>\n",
              "\n",
              "<style>\n",
              "  .colab-df-quickchart {\n",
              "      --bg-color: #E8F0FE;\n",
              "      --fill-color: #1967D2;\n",
              "      --hover-bg-color: #E2EBFA;\n",
              "      --hover-fill-color: #174EA6;\n",
              "      --disabled-fill-color: #AAA;\n",
              "      --disabled-bg-color: #DDD;\n",
              "  }\n",
              "\n",
              "  [theme=dark] .colab-df-quickchart {\n",
              "      --bg-color: #3B4455;\n",
              "      --fill-color: #D2E3FC;\n",
              "      --hover-bg-color: #434B5C;\n",
              "      --hover-fill-color: #FFFFFF;\n",
              "      --disabled-bg-color: #3B4455;\n",
              "      --disabled-fill-color: #666;\n",
              "  }\n",
              "\n",
              "  .colab-df-quickchart {\n",
              "    background-color: var(--bg-color);\n",
              "    border: none;\n",
              "    border-radius: 50%;\n",
              "    cursor: pointer;\n",
              "    display: none;\n",
              "    fill: var(--fill-color);\n",
              "    height: 32px;\n",
              "    padding: 0;\n",
              "    width: 32px;\n",
              "  }\n",
              "\n",
              "  .colab-df-quickchart:hover {\n",
              "    background-color: var(--hover-bg-color);\n",
              "    box-shadow: 0 1px 2px rgba(60, 64, 67, 0.3), 0 1px 3px 1px rgba(60, 64, 67, 0.15);\n",
              "    fill: var(--button-hover-fill-color);\n",
              "  }\n",
              "\n",
              "  .colab-df-quickchart-complete:disabled,\n",
              "  .colab-df-quickchart-complete:disabled:hover {\n",
              "    background-color: var(--disabled-bg-color);\n",
              "    fill: var(--disabled-fill-color);\n",
              "    box-shadow: none;\n",
              "  }\n",
              "\n",
              "  .colab-df-spinner {\n",
              "    border: 2px solid var(--fill-color);\n",
              "    border-color: transparent;\n",
              "    border-bottom-color: var(--fill-color);\n",
              "    animation:\n",
              "      spin 1s steps(1) infinite;\n",
              "  }\n",
              "\n",
              "  @keyframes spin {\n",
              "    0% {\n",
              "      border-color: transparent;\n",
              "      border-bottom-color: var(--fill-color);\n",
              "      border-left-color: var(--fill-color);\n",
              "    }\n",
              "    20% {\n",
              "      border-color: transparent;\n",
              "      border-left-color: var(--fill-color);\n",
              "      border-top-color: var(--fill-color);\n",
              "    }\n",
              "    30% {\n",
              "      border-color: transparent;\n",
              "      border-left-color: var(--fill-color);\n",
              "      border-top-color: var(--fill-color);\n",
              "      border-right-color: var(--fill-color);\n",
              "    }\n",
              "    40% {\n",
              "      border-color: transparent;\n",
              "      border-right-color: var(--fill-color);\n",
              "      border-top-color: var(--fill-color);\n",
              "    }\n",
              "    60% {\n",
              "      border-color: transparent;\n",
              "      border-right-color: var(--fill-color);\n",
              "    }\n",
              "    80% {\n",
              "      border-color: transparent;\n",
              "      border-right-color: var(--fill-color);\n",
              "      border-bottom-color: var(--fill-color);\n",
              "    }\n",
              "    90% {\n",
              "      border-color: transparent;\n",
              "      border-bottom-color: var(--fill-color);\n",
              "    }\n",
              "  }\n",
              "</style>\n",
              "\n",
              "  <script>\n",
              "    async function quickchart(key) {\n",
              "      const quickchartButtonEl =\n",
              "        document.querySelector('#' + key + ' button');\n",
              "      quickchartButtonEl.disabled = true;  // To prevent multiple clicks.\n",
              "      quickchartButtonEl.classList.add('colab-df-spinner');\n",
              "      try {\n",
              "        const charts = await google.colab.kernel.invokeFunction(\n",
              "            'suggestCharts', [key], {});\n",
              "      } catch (error) {\n",
              "        console.error('Error during call to suggestCharts:', error);\n",
              "      }\n",
              "      quickchartButtonEl.classList.remove('colab-df-spinner');\n",
              "      quickchartButtonEl.classList.add('colab-df-quickchart-complete');\n",
              "    }\n",
              "    (() => {\n",
              "      let quickchartButtonEl =\n",
              "        document.querySelector('#df-21a7c2c9-c067-4c0c-a8e6-c0a98fb82e5f button');\n",
              "      quickchartButtonEl.style.display =\n",
              "        google.colab.kernel.accessAllowed ? 'block' : 'none';\n",
              "    })();\n",
              "  </script>\n",
              "</div>\n",
              "\n",
              "    </div>\n",
              "  </div>\n"
            ],
            "application/vnd.google.colaboratory.intrinsic+json": {
              "type": "dataframe",
              "variable_name": "raw_train_dataset"
            }
          },
          "metadata": {},
          "execution_count": 9
        }
      ]
    },
    {
      "cell_type": "code",
      "source": [
        "# Display the first few rows of the test dataset to verify.\n",
        "raw_test_dataset.head()"
      ],
      "metadata": {
        "id": "8R7oKj4GXjp-",
        "colab": {
          "base_uri": "https://localhost:8080/",
          "height": 224
        },
        "outputId": "5e1263f0-df4e-4eb8-ab9e-66da96ff670e"
      },
      "execution_count": null,
      "outputs": [
        {
          "output_type": "execute_result",
          "data": {
            "text/plain": [
              "   4  3  Mon May 11 03:17:40 UTC 2009  kindle2        tpryan  \\\n",
              "0  4  4  Mon May 11 03:18:03 UTC 2009  kindle2        vcu451   \n",
              "1  4  5  Mon May 11 03:18:54 UTC 2009  kindle2        chadfu   \n",
              "2  4  6  Mon May 11 03:19:04 UTC 2009  kindle2         SIX15   \n",
              "3  4  7  Mon May 11 03:21:41 UTC 2009  kindle2      yamarama   \n",
              "4  4  8  Mon May 11 03:22:00 UTC 2009  kindle2  GeorgeVHulme   \n",
              "\n",
              "  @stellargirl I loooooooovvvvvveee my Kindle2. Not that the DX is cool, but the 2 is fantastic in its own right.  \n",
              "0  Reading my kindle2...  Love it... Lee childs i...                                                               \n",
              "1  Ok, first assesment of the #kindle2 ...it fuck...                                                               \n",
              "2  @kenburbary You'll love your Kindle2. I've had...                                                               \n",
              "3  @mikefish  Fair enough. But i have the Kindle2...                                                               \n",
              "4  @richardebaker no. it is too big. I'm quite ha...                                                               "
            ],
            "text/html": [
              "\n",
              "  <div id=\"df-8c306819-4f7b-4d2c-bfa2-88ac748f099d\" class=\"colab-df-container\">\n",
              "    <div>\n",
              "<style scoped>\n",
              "    .dataframe tbody tr th:only-of-type {\n",
              "        vertical-align: middle;\n",
              "    }\n",
              "\n",
              "    .dataframe tbody tr th {\n",
              "        vertical-align: top;\n",
              "    }\n",
              "\n",
              "    .dataframe thead th {\n",
              "        text-align: right;\n",
              "    }\n",
              "</style>\n",
              "<table border=\"1\" class=\"dataframe\">\n",
              "  <thead>\n",
              "    <tr style=\"text-align: right;\">\n",
              "      <th></th>\n",
              "      <th>4</th>\n",
              "      <th>3</th>\n",
              "      <th>Mon May 11 03:17:40 UTC 2009</th>\n",
              "      <th>kindle2</th>\n",
              "      <th>tpryan</th>\n",
              "      <th>@stellargirl I loooooooovvvvvveee my Kindle2. Not that the DX is cool, but the 2 is fantastic in its own right.</th>\n",
              "    </tr>\n",
              "  </thead>\n",
              "  <tbody>\n",
              "    <tr>\n",
              "      <th>0</th>\n",
              "      <td>4</td>\n",
              "      <td>4</td>\n",
              "      <td>Mon May 11 03:18:03 UTC 2009</td>\n",
              "      <td>kindle2</td>\n",
              "      <td>vcu451</td>\n",
              "      <td>Reading my kindle2...  Love it... Lee childs i...</td>\n",
              "    </tr>\n",
              "    <tr>\n",
              "      <th>1</th>\n",
              "      <td>4</td>\n",
              "      <td>5</td>\n",
              "      <td>Mon May 11 03:18:54 UTC 2009</td>\n",
              "      <td>kindle2</td>\n",
              "      <td>chadfu</td>\n",
              "      <td>Ok, first assesment of the #kindle2 ...it fuck...</td>\n",
              "    </tr>\n",
              "    <tr>\n",
              "      <th>2</th>\n",
              "      <td>4</td>\n",
              "      <td>6</td>\n",
              "      <td>Mon May 11 03:19:04 UTC 2009</td>\n",
              "      <td>kindle2</td>\n",
              "      <td>SIX15</td>\n",
              "      <td>@kenburbary You'll love your Kindle2. I've had...</td>\n",
              "    </tr>\n",
              "    <tr>\n",
              "      <th>3</th>\n",
              "      <td>4</td>\n",
              "      <td>7</td>\n",
              "      <td>Mon May 11 03:21:41 UTC 2009</td>\n",
              "      <td>kindle2</td>\n",
              "      <td>yamarama</td>\n",
              "      <td>@mikefish  Fair enough. But i have the Kindle2...</td>\n",
              "    </tr>\n",
              "    <tr>\n",
              "      <th>4</th>\n",
              "      <td>4</td>\n",
              "      <td>8</td>\n",
              "      <td>Mon May 11 03:22:00 UTC 2009</td>\n",
              "      <td>kindle2</td>\n",
              "      <td>GeorgeVHulme</td>\n",
              "      <td>@richardebaker no. it is too big. I'm quite ha...</td>\n",
              "    </tr>\n",
              "  </tbody>\n",
              "</table>\n",
              "</div>\n",
              "    <div class=\"colab-df-buttons\">\n",
              "\n",
              "  <div class=\"colab-df-container\">\n",
              "    <button class=\"colab-df-convert\" onclick=\"convertToInteractive('df-8c306819-4f7b-4d2c-bfa2-88ac748f099d')\"\n",
              "            title=\"Convert this dataframe to an interactive table.\"\n",
              "            style=\"display:none;\">\n",
              "\n",
              "  <svg xmlns=\"http://www.w3.org/2000/svg\" height=\"24px\" viewBox=\"0 -960 960 960\">\n",
              "    <path d=\"M120-120v-720h720v720H120Zm60-500h600v-160H180v160Zm220 220h160v-160H400v160Zm0 220h160v-160H400v160ZM180-400h160v-160H180v160Zm440 0h160v-160H620v160ZM180-180h160v-160H180v160Zm440 0h160v-160H620v160Z\"/>\n",
              "  </svg>\n",
              "    </button>\n",
              "\n",
              "  <style>\n",
              "    .colab-df-container {\n",
              "      display:flex;\n",
              "      gap: 12px;\n",
              "    }\n",
              "\n",
              "    .colab-df-convert {\n",
              "      background-color: #E8F0FE;\n",
              "      border: none;\n",
              "      border-radius: 50%;\n",
              "      cursor: pointer;\n",
              "      display: none;\n",
              "      fill: #1967D2;\n",
              "      height: 32px;\n",
              "      padding: 0 0 0 0;\n",
              "      width: 32px;\n",
              "    }\n",
              "\n",
              "    .colab-df-convert:hover {\n",
              "      background-color: #E2EBFA;\n",
              "      box-shadow: 0px 1px 2px rgba(60, 64, 67, 0.3), 0px 1px 3px 1px rgba(60, 64, 67, 0.15);\n",
              "      fill: #174EA6;\n",
              "    }\n",
              "\n",
              "    .colab-df-buttons div {\n",
              "      margin-bottom: 4px;\n",
              "    }\n",
              "\n",
              "    [theme=dark] .colab-df-convert {\n",
              "      background-color: #3B4455;\n",
              "      fill: #D2E3FC;\n",
              "    }\n",
              "\n",
              "    [theme=dark] .colab-df-convert:hover {\n",
              "      background-color: #434B5C;\n",
              "      box-shadow: 0px 1px 3px 1px rgba(0, 0, 0, 0.15);\n",
              "      filter: drop-shadow(0px 1px 2px rgba(0, 0, 0, 0.3));\n",
              "      fill: #FFFFFF;\n",
              "    }\n",
              "  </style>\n",
              "\n",
              "    <script>\n",
              "      const buttonEl =\n",
              "        document.querySelector('#df-8c306819-4f7b-4d2c-bfa2-88ac748f099d button.colab-df-convert');\n",
              "      buttonEl.style.display =\n",
              "        google.colab.kernel.accessAllowed ? 'block' : 'none';\n",
              "\n",
              "      async function convertToInteractive(key) {\n",
              "        const element = document.querySelector('#df-8c306819-4f7b-4d2c-bfa2-88ac748f099d');\n",
              "        const dataTable =\n",
              "          await google.colab.kernel.invokeFunction('convertToInteractive',\n",
              "                                                    [key], {});\n",
              "        if (!dataTable) return;\n",
              "\n",
              "        const docLinkHtml = 'Like what you see? Visit the ' +\n",
              "          '<a target=\"_blank\" href=https://colab.research.google.com/notebooks/data_table.ipynb>data table notebook</a>'\n",
              "          + ' to learn more about interactive tables.';\n",
              "        element.innerHTML = '';\n",
              "        dataTable['output_type'] = 'display_data';\n",
              "        await google.colab.output.renderOutput(dataTable, element);\n",
              "        const docLink = document.createElement('div');\n",
              "        docLink.innerHTML = docLinkHtml;\n",
              "        element.appendChild(docLink);\n",
              "      }\n",
              "    </script>\n",
              "  </div>\n",
              "\n",
              "\n",
              "<div id=\"df-192eaef4-97f6-4f9d-bd77-9d4b66ddddd3\">\n",
              "  <button class=\"colab-df-quickchart\" onclick=\"quickchart('df-192eaef4-97f6-4f9d-bd77-9d4b66ddddd3')\"\n",
              "            title=\"Suggest charts\"\n",
              "            style=\"display:none;\">\n",
              "\n",
              "<svg xmlns=\"http://www.w3.org/2000/svg\" height=\"24px\"viewBox=\"0 0 24 24\"\n",
              "     width=\"24px\">\n",
              "    <g>\n",
              "        <path d=\"M19 3H5c-1.1 0-2 .9-2 2v14c0 1.1.9 2 2 2h14c1.1 0 2-.9 2-2V5c0-1.1-.9-2-2-2zM9 17H7v-7h2v7zm4 0h-2V7h2v10zm4 0h-2v-4h2v4z\"/>\n",
              "    </g>\n",
              "</svg>\n",
              "  </button>\n",
              "\n",
              "<style>\n",
              "  .colab-df-quickchart {\n",
              "      --bg-color: #E8F0FE;\n",
              "      --fill-color: #1967D2;\n",
              "      --hover-bg-color: #E2EBFA;\n",
              "      --hover-fill-color: #174EA6;\n",
              "      --disabled-fill-color: #AAA;\n",
              "      --disabled-bg-color: #DDD;\n",
              "  }\n",
              "\n",
              "  [theme=dark] .colab-df-quickchart {\n",
              "      --bg-color: #3B4455;\n",
              "      --fill-color: #D2E3FC;\n",
              "      --hover-bg-color: #434B5C;\n",
              "      --hover-fill-color: #FFFFFF;\n",
              "      --disabled-bg-color: #3B4455;\n",
              "      --disabled-fill-color: #666;\n",
              "  }\n",
              "\n",
              "  .colab-df-quickchart {\n",
              "    background-color: var(--bg-color);\n",
              "    border: none;\n",
              "    border-radius: 50%;\n",
              "    cursor: pointer;\n",
              "    display: none;\n",
              "    fill: var(--fill-color);\n",
              "    height: 32px;\n",
              "    padding: 0;\n",
              "    width: 32px;\n",
              "  }\n",
              "\n",
              "  .colab-df-quickchart:hover {\n",
              "    background-color: var(--hover-bg-color);\n",
              "    box-shadow: 0 1px 2px rgba(60, 64, 67, 0.3), 0 1px 3px 1px rgba(60, 64, 67, 0.15);\n",
              "    fill: var(--button-hover-fill-color);\n",
              "  }\n",
              "\n",
              "  .colab-df-quickchart-complete:disabled,\n",
              "  .colab-df-quickchart-complete:disabled:hover {\n",
              "    background-color: var(--disabled-bg-color);\n",
              "    fill: var(--disabled-fill-color);\n",
              "    box-shadow: none;\n",
              "  }\n",
              "\n",
              "  .colab-df-spinner {\n",
              "    border: 2px solid var(--fill-color);\n",
              "    border-color: transparent;\n",
              "    border-bottom-color: var(--fill-color);\n",
              "    animation:\n",
              "      spin 1s steps(1) infinite;\n",
              "  }\n",
              "\n",
              "  @keyframes spin {\n",
              "    0% {\n",
              "      border-color: transparent;\n",
              "      border-bottom-color: var(--fill-color);\n",
              "      border-left-color: var(--fill-color);\n",
              "    }\n",
              "    20% {\n",
              "      border-color: transparent;\n",
              "      border-left-color: var(--fill-color);\n",
              "      border-top-color: var(--fill-color);\n",
              "    }\n",
              "    30% {\n",
              "      border-color: transparent;\n",
              "      border-left-color: var(--fill-color);\n",
              "      border-top-color: var(--fill-color);\n",
              "      border-right-color: var(--fill-color);\n",
              "    }\n",
              "    40% {\n",
              "      border-color: transparent;\n",
              "      border-right-color: var(--fill-color);\n",
              "      border-top-color: var(--fill-color);\n",
              "    }\n",
              "    60% {\n",
              "      border-color: transparent;\n",
              "      border-right-color: var(--fill-color);\n",
              "    }\n",
              "    80% {\n",
              "      border-color: transparent;\n",
              "      border-right-color: var(--fill-color);\n",
              "      border-bottom-color: var(--fill-color);\n",
              "    }\n",
              "    90% {\n",
              "      border-color: transparent;\n",
              "      border-bottom-color: var(--fill-color);\n",
              "    }\n",
              "  }\n",
              "</style>\n",
              "\n",
              "  <script>\n",
              "    async function quickchart(key) {\n",
              "      const quickchartButtonEl =\n",
              "        document.querySelector('#' + key + ' button');\n",
              "      quickchartButtonEl.disabled = true;  // To prevent multiple clicks.\n",
              "      quickchartButtonEl.classList.add('colab-df-spinner');\n",
              "      try {\n",
              "        const charts = await google.colab.kernel.invokeFunction(\n",
              "            'suggestCharts', [key], {});\n",
              "      } catch (error) {\n",
              "        console.error('Error during call to suggestCharts:', error);\n",
              "      }\n",
              "      quickchartButtonEl.classList.remove('colab-df-spinner');\n",
              "      quickchartButtonEl.classList.add('colab-df-quickchart-complete');\n",
              "    }\n",
              "    (() => {\n",
              "      let quickchartButtonEl =\n",
              "        document.querySelector('#df-192eaef4-97f6-4f9d-bd77-9d4b66ddddd3 button');\n",
              "      quickchartButtonEl.style.display =\n",
              "        google.colab.kernel.accessAllowed ? 'block' : 'none';\n",
              "    })();\n",
              "  </script>\n",
              "</div>\n",
              "\n",
              "    </div>\n",
              "  </div>\n"
            ],
            "application/vnd.google.colaboratory.intrinsic+json": {
              "type": "dataframe",
              "variable_name": "raw_test_dataset",
              "summary": "{\n  \"name\": \"raw_test_dataset\",\n  \"rows\": 497,\n  \"fields\": [\n    {\n      \"column\": \"4\",\n      \"properties\": {\n        \"dtype\": \"number\",\n        \"std\": 1,\n        \"min\": 0,\n        \"max\": 4,\n        \"num_unique_values\": 3,\n        \"samples\": [\n          4,\n          0,\n          2\n        ],\n        \"semantic_type\": \"\",\n        \"description\": \"\"\n      }\n    },\n    {\n      \"column\": \"3\",\n      \"properties\": {\n        \"dtype\": \"number\",\n        \"std\": 2836,\n        \"min\": 4,\n        \"max\": 14076,\n        \"num_unique_values\": 497,\n        \"samples\": [\n          13077,\n          179,\n          603\n        ],\n        \"semantic_type\": \"\",\n        \"description\": \"\"\n      }\n    },\n    {\n      \"column\": \"Mon May 11 03:17:40 UTC 2009\",\n      \"properties\": {\n        \"dtype\": \"string\",\n        \"num_unique_values\": 497,\n        \"samples\": [\n          \"Sun Jun 14 21:36:04 UTC 2009\",\n          \"Wed May 20 02:40:23 UTC 2009\",\n          \"Mon Jun 08 20:46:01 UTC 2009\"\n        ],\n        \"semantic_type\": \"\",\n        \"description\": \"\"\n      }\n    },\n    {\n      \"column\": \"kindle2\",\n      \"properties\": {\n        \"dtype\": \"category\",\n        \"num_unique_values\": 81,\n        \"samples\": [\n          \"lakers\",\n          \"kindle2\",\n          \"\\\"twitter api\\\"\"\n        ],\n        \"semantic_type\": \"\",\n        \"description\": \"\"\n      }\n    },\n    {\n      \"column\": \"tpryan\",\n      \"properties\": {\n        \"dtype\": \"string\",\n        \"num_unique_values\": 489,\n        \"samples\": [\n          \"CaptainCraigos\",\n          \"a_fio\",\n          \"inBlogs\"\n        ],\n        \"semantic_type\": \"\",\n        \"description\": \"\"\n      }\n    },\n    {\n      \"column\": \"@stellargirl I loooooooovvvvvveee my Kindle2. Not that the DX is cool, but the 2 is fantastic in its own right.\",\n      \"properties\": {\n        \"dtype\": \"string\",\n        \"num_unique_values\": 497,\n        \"samples\": [\n          \"Shit's hitting the fan in Iran...craziness indeed #iranelection\",\n          \"By the way, I'm totally inspired by this freaky Nike commercial: http://snurl.com/icgj9\",\n          \"Google Wave Developer Sandbox Account Request http://bit.ly/2NYlc\"\n        ],\n        \"semantic_type\": \"\",\n        \"description\": \"\"\n      }\n    }\n  ]\n}"
            }
          },
          "metadata": {},
          "execution_count": 10
        }
      ]
    },
    {
      "cell_type": "markdown",
      "source": [
        "It can be observed by inspecting the training and test datasets that the first column contains the labels, whereas the last column houses the text (tweets) we are interested in. Let us confirm the unique values in the labels column."
      ],
      "metadata": {
        "id": "_aYcYMedwh2g"
      }
    },
    {
      "cell_type": "code",
      "source": [
        "# Fetch and print the unique labels in the training data.\n",
        "unique_values_train = raw_train_dataset.iloc[:, 0].unique()\n",
        "print(unique_values_train)"
      ],
      "metadata": {
        "id": "nfpDh2eTxS0h",
        "colab": {
          "base_uri": "https://localhost:8080/"
        },
        "outputId": "23e5de6a-e1c4-4629-ab1e-7eb51d088306"
      },
      "execution_count": null,
      "outputs": [
        {
          "output_type": "stream",
          "name": "stdout",
          "text": [
            "[0 4]\n"
          ]
        }
      ]
    },
    {
      "cell_type": "code",
      "source": [
        "# Fetch and print the unique labels in the test data.\n",
        "unique_values_test = raw_test_dataset.iloc[:, 0].unique()\n",
        "print(unique_values_test)"
      ],
      "metadata": {
        "id": "fXYUiQwUxhi9",
        "colab": {
          "base_uri": "https://localhost:8080/"
        },
        "outputId": "a89478e7-be38-406c-de1a-9c72b163172b"
      },
      "execution_count": null,
      "outputs": [
        {
          "output_type": "stream",
          "name": "stdout",
          "text": [
            "[4 0 2]\n"
          ]
        }
      ]
    },
    {
      "cell_type": "markdown",
      "source": [
        "### Normalize the data"
      ],
      "metadata": {
        "id": "jGEMJq1YwYc5"
      }
    },
    {
      "cell_type": "markdown",
      "source": [
        "We can observe that the training labels comprise of two values, 0 *(negative)* and 4 *(positive)*. Therefore, we will now go ahead and normalize the training labels so that the 4's are converted to 1's (we will use 1 to denote the *positive* labels). This will help us when we build our model / sentiment classifier to perform binary classification."
      ],
      "metadata": {
        "id": "FzP6zzpHyA5P"
      }
    },
    {
      "cell_type": "code",
      "source": [
        "# Normalize the training labels.\n",
        "raw_train_dataset.iloc[:, 0] = raw_train_dataset.iloc[:, 0].apply(lambda x: 0 if x == 0 else 1)"
      ],
      "metadata": {
        "id": "bUGSJWkIaqd0"
      },
      "execution_count": null,
      "outputs": []
    },
    {
      "cell_type": "markdown",
      "source": [
        "Let us print and confirm the unique labels in the training dataset after performing normalization."
      ],
      "metadata": {
        "id": "aKReLGGA3fs8"
      }
    },
    {
      "cell_type": "code",
      "source": [
        "# Fetch and print the unique labels in the training data after performing normalization.\n",
        "unique_values_train_normalized = raw_train_dataset.iloc[:, 0].unique()\n",
        "print(unique_values_train_normalized)"
      ],
      "metadata": {
        "colab": {
          "base_uri": "https://localhost:8080/"
        },
        "id": "sii7J46H4gnM",
        "outputId": "77fd1c08-307a-4b08-d9e0-0db88cde2d87"
      },
      "execution_count": null,
      "outputs": [
        {
          "output_type": "stream",
          "name": "stdout",
          "text": [
            "[0 1]\n"
          ]
        }
      ]
    },
    {
      "cell_type": "markdown",
      "source": [
        "It can also be observed that the test dataset is comprised of the labels 0 *(negative)*, 2 *(neutral)*, and 4 *(positive)*. However, we need to ensure that the training and test data are consistent so that we can evaluate our model (a binary classifier) on the classes it was trained on. We will therefore go ahead and filter out the rows from the test dataset with the label 2 *(neutral)*."
      ],
      "metadata": {
        "id": "m4EqjA0FarnV"
      }
    },
    {
      "cell_type": "code",
      "source": [
        "# Filter out the rows from the test data with the label 2 (neutral).\n",
        "filtered_test_dataset = raw_test_dataset[raw_test_dataset.iloc[:, 0] != 2]"
      ],
      "metadata": {
        "id": "9wwyl860X2JU"
      },
      "execution_count": null,
      "outputs": []
    },
    {
      "cell_type": "markdown",
      "source": [
        "We will go ahead and take a look at the number of elements in the filtered test dataset."
      ],
      "metadata": {
        "id": "awnQMEl_xNtN"
      }
    },
    {
      "cell_type": "code",
      "source": [
        "# Confirm the number of rows / examples in the test dataset after filtering.\n",
        "num_examples_test_filtered = filtered_test_dataset.shape[0]\n",
        "print(\"Number of test examples after filtering:\", num_examples_test_filtered)"
      ],
      "metadata": {
        "colab": {
          "base_uri": "https://localhost:8080/"
        },
        "id": "S9WoTfbYxOA7",
        "outputId": "fb83d7d6-f240-4c71-8d88-3c2699509075"
      },
      "execution_count": null,
      "outputs": [
        {
          "output_type": "stream",
          "name": "stdout",
          "text": [
            "Number of test examples after filtering: 358\n"
          ]
        }
      ]
    },
    {
      "cell_type": "markdown",
      "source": [
        "Let us confirm the unique values in the labels column of the test data once again."
      ],
      "metadata": {
        "id": "hsi9Wm7adm7J"
      }
    },
    {
      "cell_type": "code",
      "source": [
        "# Fetch and print the unique labels in the filtered test data.\n",
        "unique_filtered_values_test = filtered_test_dataset.iloc[:, 0].unique()\n",
        "print(unique_filtered_values_test)"
      ],
      "metadata": {
        "colab": {
          "base_uri": "https://localhost:8080/"
        },
        "id": "votzV1cwZwoS",
        "outputId": "bf146a57-faf2-4341-e3f4-657f78eaf9af"
      },
      "execution_count": null,
      "outputs": [
        {
          "output_type": "stream",
          "name": "stdout",
          "text": [
            "[4 0]\n"
          ]
        }
      ]
    },
    {
      "cell_type": "markdown",
      "source": [
        "Now that we are sure that the test data comprises of just the labels 0 *(negative)* and 4 *(positive)*, we will go ahead and normalize the test labels so that the 4's are converted to 1's (*positive* labels)."
      ],
      "metadata": {
        "id": "s_tu0L74dwBB"
      }
    },
    {
      "cell_type": "code",
      "source": [
        "# Normalize the test labels.\n",
        "filtered_test_dataset.iloc[:, 0] = filtered_test_dataset.iloc[:, 0].apply(lambda x: 0 if x == 0 else 1)"
      ],
      "metadata": {
        "id": "EQgVgXuSSzcE"
      },
      "execution_count": null,
      "outputs": []
    },
    {
      "cell_type": "markdown",
      "source": [
        "Let us print and confirm the unique labels in the test dataset after performing normalization."
      ],
      "metadata": {
        "id": "ylS-p2EG455C"
      }
    },
    {
      "cell_type": "code",
      "source": [
        "# Fetch and print the unique labels in the test data after performing normalization.\n",
        "unique_filtered_values_test_normalized = filtered_test_dataset.iloc[:, 0].unique()\n",
        "print(unique_filtered_values_test_normalized)"
      ],
      "metadata": {
        "colab": {
          "base_uri": "https://localhost:8080/"
        },
        "id": "jaes-V215G1k",
        "outputId": "7b50d2a8-fd2a-42c1-d40c-e4a5f9e44ac5"
      },
      "execution_count": null,
      "outputs": [
        {
          "output_type": "stream",
          "name": "stdout",
          "text": [
            "[1 0]\n"
          ]
        }
      ]
    },
    {
      "cell_type": "markdown",
      "source": [
        "### Separate out the labels from the features\n"
      ],
      "metadata": {
        "id": "Gdv8ZBaLuwDG"
      }
    },
    {
      "cell_type": "markdown",
      "source": [
        "Let us go ahead and extract the labels and the text data from the training and test datasets for further processing and for feeding into our model later."
      ],
      "metadata": {
        "id": "RUVYIqvj8yAj"
      }
    },
    {
      "cell_type": "code",
      "source": [
        "# Extract the labels (first column) from the training dataset.\n",
        "train_labels = raw_train_dataset.iloc[:, 0].values\n",
        "\n",
        "# Extract the text data (last column) from the training dataset.\n",
        "train_text_data = raw_train_dataset.iloc[:, -1].values\n",
        "\n",
        "# Display the first few labels and text entries from the training dataset to verify.\n",
        "print(train_labels[:5])\n",
        "print(train_text_data[:5])"
      ],
      "metadata": {
        "id": "mxyM-DCPxChx",
        "colab": {
          "base_uri": "https://localhost:8080/"
        },
        "outputId": "d5371810-9c0e-4163-d28d-6438d13f7b6f"
      },
      "execution_count": null,
      "outputs": [
        {
          "output_type": "stream",
          "name": "stdout",
          "text": [
            "[0 0 0 0 0]\n",
            "[\"is upset that he can't update his Facebook by texting it... and might cry as a result  School today also. Blah!\"\n",
            " '@Kenichan I dived many times for the ball. Managed to save 50%  The rest go out of bounds'\n",
            " 'my whole body feels itchy and like its on fire '\n",
            " \"@nationwideclass no, it's not behaving at all. i'm mad. why am i here? because I can't see you all over there. \"\n",
            " '@Kwesidei not the whole crew ']\n"
          ]
        }
      ]
    },
    {
      "cell_type": "code",
      "source": [
        "# Extract the labels (first column) from the test dataset.\n",
        "test_labels = filtered_test_dataset.iloc[:, 0].values\n",
        "\n",
        "# Extract the text data (last column) from the test dataset.\n",
        "test_text_data = filtered_test_dataset.iloc[:, -1].values\n",
        "\n",
        "# Display the first few labels and text entries from the test dataset to verify.\n",
        "print(test_labels[:5])\n",
        "print(test_text_data[:5])"
      ],
      "metadata": {
        "id": "tLDF709m1TCi",
        "colab": {
          "base_uri": "https://localhost:8080/"
        },
        "outputId": "b7032e0a-7dc1-4aa5-c448-9e2e8a8f0371"
      },
      "execution_count": null,
      "outputs": [
        {
          "output_type": "stream",
          "name": "stdout",
          "text": [
            "[1 1 1 1 1]\n",
            "['Reading my kindle2...  Love it... Lee childs is good read.'\n",
            " 'Ok, first assesment of the #kindle2 ...it fucking rocks!!!'\n",
            " \"@kenburbary You'll love your Kindle2. I've had mine for a few months and never looked back. The new big one is huge! No need for remorse! :)\"\n",
            " \"@mikefish  Fair enough. But i have the Kindle2 and I think it's perfect  :)\"\n",
            " \"@richardebaker no. it is too big. I'm quite happy with the Kindle2.\"]\n"
          ]
        }
      ]
    },
    {
      "cell_type": "markdown",
      "source": [
        "## Distributed training and parallelization"
      ],
      "metadata": {
        "id": "6TCwC3j0aXPT"
      }
    },
    {
      "cell_type": "markdown",
      "source": [
        "As indicated earlier, we would leverage TensorFlow's distributed computing framework to optimize the use of computational resources and to minimize the time and cost required to train our RNN model. Let us set up TensorFlow to leverage TPU resources for distributed training.\n",
        "\n",
        "The `TPUClusterResolver` connects to the TPU system, initializes it, and that the TPU resources are ready and properly configured before starting the training process."
      ],
      "metadata": {
        "id": "d_wxE_Hkabcp"
      }
    },
    {
      "cell_type": "code",
      "source": [
        "# Initialize the TPU cluster resolver to connect to the TPU system.\n",
        "resolver = tf.distribute.cluster_resolver.TPUClusterResolver()\n",
        "\n",
        "# Connect to the TPU cluster using the resolver.\n",
        "tf.config.experimental_connect_to_cluster(resolver)\n",
        "\n",
        "# Initialize the TPU system to prepare it for training.\n",
        "tf.tpu.experimental.initialize_tpu_system(resolver)"
      ],
      "metadata": {
        "id": "y3F3CPKgjs5C",
        "colab": {
          "base_uri": "https://localhost:8080/"
        },
        "outputId": "8ead07bb-c8cb-4947-90be-82462a0637a5"
      },
      "execution_count": null,
      "outputs": [
        {
          "output_type": "execute_result",
          "data": {
            "text/plain": [
              "<tensorflow.python.tpu.topology.Topology at 0x7f19faf2b6d0>"
            ]
          },
          "metadata": {},
          "execution_count": 22
        }
      ]
    },
    {
      "cell_type": "markdown",
      "source": [
        "We will now define a strategy to distribute the training across TPU cores, aiming to accelerate and optimize the training process. It is worth noting that in this particular case, distributed computing using the `TPUStrategy` reduces the training time by a factor of hundreds, as compared to the time required to train the model without implementing parallelization."
      ],
      "metadata": {
        "id": "V3ORZsDMak5J"
      }
    },
    {
      "cell_type": "code",
      "source": [
        "# Step 2: Define the distribution strategy to distribute the training across the TPU cores.\n",
        "strategy = tf.distribute.TPUStrategy(resolver)"
      ],
      "metadata": {
        "id": "xn5mfKIAjv_P"
      },
      "execution_count": null,
      "outputs": []
    },
    {
      "cell_type": "markdown",
      "source": [
        "## Prepare the data"
      ],
      "metadata": {
        "id": "WwdfZDDR-wQY"
      }
    },
    {
      "cell_type": "markdown",
      "source": [
        "We will now work on preprocessing the text data to be fed into our RNN model / sentiment classifier."
      ],
      "metadata": {
        "id": "gHnfgvHKLqDM"
      }
    },
    {
      "cell_type": "markdown",
      "source": [
        "### Apply text vectorization"
      ],
      "metadata": {
        "id": "Z4svO-_wMkIl"
      }
    },
    {
      "cell_type": "markdown",
      "source": [
        "Let us first undersrtand more a few important terms.\n",
        "\n",
        "Standardization refers to preprocessing the text, typically to remove punctuation or HTML elements to simplify the dataset. Tokenization is the process of splitting strings into tokens (e.g., splitting a sentence into individual words by splitting on whitespace) and each token is a feature of the text data. Vectorization converts tokens into numbers so they can be fed into a neural network. All of the aforementioned tasks can be accomplished with the `tf.keras.layers.TextVectorization` layer that we would be using to preprocess the text data."
      ],
      "metadata": {
        "id": "bQWDuB7Z-1Ph"
      }
    },
    {
      "cell_type": "markdown",
      "source": [
        "Before applying the `TextVectorization` layer and proceeding with tokenization of the training and test text data, we will convert the data into strings, as the `TextVectorization` layer in TensorFlow / Keras expects input data to be in the string format."
      ],
      "metadata": {
        "id": "Z_j1wAPvFyBt"
      }
    },
    {
      "cell_type": "code",
      "source": [
        "# Convert all text data to strings.\n",
        "train_text_data = train_text_data.astype(str)\n",
        "test_text_data = test_text_data.astype(str)"
      ],
      "metadata": {
        "id": "BHjd6vThLRqM"
      },
      "execution_count": null,
      "outputs": []
    },
    {
      "cell_type": "markdown",
      "source": [
        "Now, we are finally ready to standardize, tokenize, and vectorize the text data using the `TextVectorization` preprocessing layer. To facilitate the same, we will adapt the `TextVectorization` layer to the training data (fit on the training data). This will cause the model to build a vocabulary - an index of strings to integers."
      ],
      "metadata": {
        "id": "5tIEFm-rLP2n"
      }
    },
    {
      "cell_type": "code",
      "source": [
        "# Maximum number of unique tokens or features to retain in the vocabulary.\n",
        "max_features = 20000\n",
        "\n",
        "# Maximum number of tokens of each input sequence / example to be processed.\n",
        "sequence_length = 64\n",
        "\n",
        "# Define the TextVectorization layer.\n",
        "vectorize_layer = layers.TextVectorization(\n",
        "    standardize='lower_and_strip_punctuation',\n",
        "    max_tokens=max_features,\n",
        "    output_mode='int',\n",
        "    output_sequence_length=sequence_length)\n",
        "\n",
        "# Adapt the TextVectorization layer to the entire training data.\n",
        "# This helps learn the vocabulary from the training data.\n",
        "vectorize_layer.adapt(train_text_data)"
      ],
      "metadata": {
        "id": "um_M6vhXHXMa"
      },
      "execution_count": null,
      "outputs": []
    },
    {
      "cell_type": "markdown",
      "source": [
        "We will now go ahead and split the training data into training and validation sets. We will use 20% of the training data for validation."
      ],
      "metadata": {
        "id": "6XhyiAMUMwau"
      }
    },
    {
      "cell_type": "code",
      "source": [
        "# Split the training data into training and validation data.\n",
        "text_train, text_val, labels_train, labels_val = train_test_split(train_text_data, train_labels,  test_size=0.2, random_state=42)"
      ],
      "metadata": {
        "id": "59a7NEZ_uBoW"
      },
      "execution_count": null,
      "outputs": []
    },
    {
      "cell_type": "markdown",
      "source": [
        "As the final preprocessing step, let us go ahead and apply the `TextVectorization` layer to the training, validation, and test data, and take a look at the vectorized data."
      ],
      "metadata": {
        "id": "y8T1GKMINNq3"
      }
    },
    {
      "cell_type": "code",
      "source": [
        "# Apply TextVectorization to standardize, tokenize, and vectorize the training data.\n",
        "text_train_vectorized = vectorize_layer(text_train)\n",
        "\n",
        "# Visualize the training data.\n",
        "print(\"Vectorized Training Data:\\n\", text_train_vectorized.numpy())\n",
        "\n",
        "# Apply TextVectorization to standardize, tokenize, and vectorize the validation data.\n",
        "text_val_vectorized = vectorize_layer(text_val)\n",
        "\n",
        "# Visualize the validation data.\n",
        "print(\"Vectorized Validation Data:\\n\", text_val_vectorized.numpy())\n",
        "\n",
        "# Apply TextVectorization to standardize, tokenize, and vectorize the test data.\n",
        "text_test_vectorized = vectorize_layer(test_text_data)\n",
        "\n",
        "# Visualize the test data.\n",
        "print(\"Vectorized Test Data:\\n\", text_test_vectorized.numpy())"
      ],
      "metadata": {
        "colab": {
          "base_uri": "https://localhost:8080/"
        },
        "id": "Q-WkRqb2ja6j",
        "outputId": "d656a040-51eb-4732-c109-70e47c025227"
      },
      "execution_count": null,
      "outputs": [
        {
          "output_type": "stream",
          "name": "stdout",
          "text": [
            "Vectorized Training Data:\n",
            " [[   1    4  696 ...    0    0    0]\n",
            " [1363   11  184 ...    0    0    0]\n",
            " [  25   30   19 ...    0    0    0]\n",
            " ...\n",
            " [   1    2   58 ...    0    0    0]\n",
            " [  48  373    8 ...    0    0    0]\n",
            " [  52   51 6526 ...    0    0    0]]\n",
            "Vectorized Validation Data:\n",
            " [[   1    6  340 ...    0    0    0]\n",
            " [  14   85   44 ...    0    0    0]\n",
            " [   2  249   93 ...    0    0    0]\n",
            " ...\n",
            " [   1   76   11 ...    0    0    0]\n",
            " [4092   11    4 ...    0    0    0]\n",
            " [  60    3  178 ...    0    0    0]]\n",
            "Vectorized Test Data:\n",
            " [[ 473    6    1 ...    0    0    0]\n",
            " [ 181  164    1 ...    0    0    0]\n",
            " [   1  548   46 ...    0    0    0]\n",
            " ...\n",
            " [ 837   52   12 ...    0    0    0]\n",
            " [1169   12 2187 ...    0    0    0]\n",
            " [ 473    4  413 ...    0    0    0]]\n"
          ]
        }
      ]
    },
    {
      "cell_type": "markdown",
      "source": [
        "As mentioned earlier, vectorization replaces each token by an integer. We can lookup the token (string) that each integer corresponds to by calling `.get_vocabulary()` on the layer. Let us check a couple of random entries from the vocabulary and also get an idea about the size of the vocabulary."
      ],
      "metadata": {
        "id": "_-U-dp_CNr5b"
      }
    },
    {
      "cell_type": "code",
      "source": [
        "# Check a few vocabulary entries.\n",
        "print(\"872 ---> \",vectorize_layer.get_vocabulary()[872])\n",
        "print(\"1729 ---> \",vectorize_layer.get_vocabulary()[1729])\n",
        "print(\"3391 ---> \",vectorize_layer.get_vocabulary()[3391])\n",
        "\n",
        "# Check the size of the vocabulary.\n",
        "print('Vocabulary size: {}'.format(len(vectorize_layer.get_vocabulary())))"
      ],
      "metadata": {
        "colab": {
          "base_uri": "https://localhost:8080/"
        },
        "id": "6kbGWwZNjlpa",
        "outputId": "2eb21f95-fba4-4b8c-e237-9fc05f437049"
      },
      "execution_count": null,
      "outputs": [
        {
          "output_type": "stream",
          "name": "stdout",
          "text": [
            "872 --->  safe\n",
            "1729 --->  twit\n",
            "3391 --->  split\n",
            "Vocabulary size: 20000\n"
          ]
        }
      ]
    },
    {
      "cell_type": "markdown",
      "source": [
        "## Configure the data for performance\n",
        "\n",
        "Firstly, we will have to convert our data into a TensorFlow dataset. This step ensures efficient data handling, allows for batching, and integrates seamlessly with TensorFlow / Keras models, resulting in faster and more effective training."
      ],
      "metadata": {
        "id": "3qzhHU_TQDIX"
      }
    },
    {
      "cell_type": "markdown",
      "source": [
        "There are two important methods that should be used when loading data to make sure that I/O does not become blocking.\n",
        "1.   `cache()` keeps data in memory after it's loaded off disk. This will ensure the dataset does not become a bottleneck while training the model.\n",
        "2.   `prefetch()` overlaps data preprocessing and model execution while training.\n",
        "\n",
        "More on both of the aforementioned methods, as well as how to cache data to disk in the data performance guide [here](https://www.tensorflow.org/guide/data_performance)."
      ],
      "metadata": {
        "id": "SNgsUI7R4nAd"
      }
    },
    {
      "cell_type": "code",
      "source": [
        "# Batch size to be used for training.\n",
        "batch_size = 1024\n",
        "\n",
        "# Define the buffer size for shuffling the dataset.\n",
        "buffer_size = 10000\n",
        "\n",
        "# Automatically tune the buffer size for optimal data loading performance.\n",
        "AUTOTUNE = tf.data.AUTOTUNE"
      ],
      "metadata": {
        "id": "JR9g-WStaNfb"
      },
      "execution_count": null,
      "outputs": []
    },
    {
      "cell_type": "code",
      "source": [
        "# Create TensorFlow datasets.\n",
        "train_ds = tf.data.Dataset.from_tensor_slices((text_train_vectorized, labels_train))\n",
        "val_ds = tf.data.Dataset.from_tensor_slices((text_val_vectorized, labels_val))\n",
        "test_ds = tf.data.Dataset.from_tensor_slices((text_test_vectorized, test_labels))\n",
        "\n",
        "# Batch the datasets.\n",
        "train_ds = train_ds.batch(batch_size)\n",
        "val_ds = val_ds.batch(batch_size)\n",
        "test_ds = test_ds.batch(batch_size)\n",
        "\n",
        "# Cache, shuffle, and prefetch the datasets to improve performance.\n",
        "train_ds = train_ds.cache().shuffle(buffer_size).prefetch(buffer_size=AUTOTUNE)\n",
        "val_ds = val_ds.cache().prefetch(buffer_size=AUTOTUNE)\n",
        "test_ds = test_ds.cache().prefetch(buffer_size=AUTOTUNE)"
      ],
      "metadata": {
        "id": "2mN9HsyESed6"
      },
      "execution_count": null,
      "outputs": []
    },
    {
      "cell_type": "markdown",
      "source": [
        "The `shuffle()` function in the data pipeline randomizes the order of the elements in the dataset. This helps prevent overfitting of the data and improves the generalization capabilities of the model."
      ],
      "metadata": {
        "id": "grtRv9lus44i"
      }
    },
    {
      "cell_type": "markdown",
      "source": [
        "## Build and train the model"
      ],
      "metadata": {
        "id": "B7llNnpL77SZ"
      }
    },
    {
      "cell_type": "markdown",
      "source": [
        "We will now go ahead and define our binary classifier - a RNN model, and optimize the training process. Before that, let us take a quick look at what a RNN is and also define Long Short-Term Memory (LSTM) - a type of RNN that we would be using to create our model."
      ],
      "metadata": {
        "id": "A23RgElv8qJ9"
      }
    },
    {
      "cell_type": "markdown",
      "source": [
        "### RNN and LSTM"
      ],
      "metadata": {
        "id": "Xz2EaNEj5mIO"
      }
    },
    {
      "cell_type": "markdown",
      "source": [
        "*   **RNN:** RNNs are a class of neural networks designed for processing sequential data, such as time series, natural language, or any data where the order of the input matters. RNNs have loops that allow information to persist in the network, enabling them to handle sequences of varying lengths.\n",
        "*   **LSTM:** LSTM is a specific architecture within the RNN family that was developed to address the limitations of traditional RNNs, particularly the issue of long-term dependencies. Traditional RNNs struggle to maintain relevant information over long sequences due to problems, such as vanishing or exploding gradients. LSTMs introduce a more sophisticated memory cell and gating mechanism (input gate, forget gate, and output gate) that help the network decide which information to retain, update, or discard. We would use LSTM in this work to create the RNN model."
      ],
      "metadata": {
        "id": "_6tEIOED722p"
      }
    },
    {
      "cell_type": "markdown",
      "source": [
        "### Define the model"
      ],
      "metadata": {
        "id": "qekf-M8f84e5"
      }
    },
    {
      "cell_type": "markdown",
      "source": [
        "Let us define the embedding dimension for our neural network model, i.e., the length of the vector representing each word or token in the vocabulary. We will also use `L2` regularization to prevent overfitting of the data."
      ],
      "metadata": {
        "id": "C-efBdG45Fy2"
      }
    },
    {
      "cell_type": "code",
      "source": [
        "# Embedding dimension.\n",
        "embedding_dim = 16\n",
        "\n",
        "# Define a kernel regularizer to prevent overfitting the data.\n",
        "regularizer = tf.keras.regularizers.L2(0.01)"
      ],
      "metadata": {
        "id": "vb9L2Sr5FW6t"
      },
      "execution_count": null,
      "outputs": []
    },
    {
      "cell_type": "markdown",
      "source": [
        "We will build and compile the RNN model with our distributed TPU training strategy by using the function `strategy.scope()`. The vectorized data will be passed into the RNN model. The model has the following layers.\n",
        "\n",
        "1.   The `Embedding` layer is used to transform the input tokens into dense vectors, learn the word or token representations from the training data, and to map the high-dimensional sparse input space into a lower-dimensional dense space. These vectors are trainable. After training (on enough data), words with similar meanings often have similar vectors. Setting `mask_zero=True` specifies that the embedding layer should ignore padding tokens (which are typically represented by zeros) in the input sequences.\n",
        "\n",
        "2.   A `LSTM` layer processes sequence input by iterating through the elements. RNNs pass the outputs from one timestep to their input on the next timestep. Setting `return_sequences=True` ensures that the output is a sequence of vectors, one for each successive time step in the input sequence. The output will have the same sequence length as that of the input, so it can be passed to another RNN layer, which is exactly what we are doing.\n",
        "\n",
        "  The `Bidirectional` wrapper is being used with the RNN layer. This propagates the input forward and backwards through the RNN layer and then concatenates the final output.\n",
        "  *   **Advantage of a bidirectional RNN:** The signal from the beginning of the input doesn't need to be processed all the way through every timestep to affect the output.\n",
        "  *   **Disadvantage of a bidirectional RNN:** The main disadvantage of a bidirectional RNN is that we cannot efficiently stream predictions as words are being added to the end.\n",
        "3.   `Dropout` is used to regularize the model by randomly setting a fraction (50% here) of its input units to 0 during training to prevent overfitting.\n",
        "4.   After the RNN has converted the sequence to a single vector, the `Dense` layer with ReLU activation reduces the dimensionality of the `LSTM` output, condensing the high-dimensional data into a more compact, low-dimensional representation. It also extracts and emphasizes key, relevant features, providing a refined, intermediate representation of the data.\n",
        "5.   The final layer is a single-unit `Dense` layer with a sigmoid activation function for binary classification (outputs a probability of a class or label, i.e., *positive* or *negative* sentiment).\n",
        "\n",
        "`L2` regularization has been applied to the `LSTM` and `Dense` layers. `L2` regularization is a type of kernel regularizer that is applied to the kernel (weights) to prevent the model from overfitting the data by penalizing large weights of the model."
      ],
      "metadata": {
        "id": "R8haj_bCFxke"
      }
    },
    {
      "cell_type": "markdown",
      "source": [
        "Let us go ahead and train our model and fit it to the training data and validate it on the validation data."
      ],
      "metadata": {
        "id": "z-loNCTvI2Sz"
      }
    },
    {
      "cell_type": "code",
      "source": [
        "# Define the scope for distributed training using the TPUStrategy.\n",
        "with strategy.scope():\n",
        "  model = tf.keras.Sequential([\n",
        "      # Embedding layer: Converts word indices into dense vectors.\n",
        "      layers.Embedding(max_features, embedding_dim, mask_zero=True),\n",
        "\n",
        "      # First Bidirectional LSTM layer: Processes the sequence in both directions.\n",
        "      tf.keras.layers.Bidirectional(tf.keras.layers.LSTM(64, return_sequences=True, kernel_regularizer=regularizer)),\n",
        "\n",
        "      # Dropout layer: Randomly sets the outputs of 50% of the input units / neurons to 0 to prevent overfitting.\n",
        "      tf.keras.layers.Dropout(0.5),\n",
        "\n",
        "      # Second Bidirectional LSTM layer: Processes the sequence and returns the final state.\n",
        "      tf.keras.layers.Bidirectional(tf.keras.layers.LSTM(32, kernel_regularizer=regularizer)),\n",
        "\n",
        "      # Dense layer: Fully connected layer with 64 units to further refine the features.\n",
        "      tf.keras.layers.Dense(64, activation='relu', kernel_regularizer=regularizer),\n",
        "\n",
        "      # Dropout layer: Further prevents overfitting by randomly dropping 50% of the units.\n",
        "      tf.keras.layers.Dropout(0.5),\n",
        "\n",
        "      # Output layer: A single neuron for binary classification.\n",
        "      tf.keras.layers.Dense(1)\n",
        "      ])"
      ],
      "metadata": {
        "id": "qOYb_Bu98JFr"
      },
      "execution_count": null,
      "outputs": []
    },
    {
      "cell_type": "code",
      "source": [
        "# Investigate the model.\n",
        "model.summary()"
      ],
      "metadata": {
        "colab": {
          "base_uri": "https://localhost:8080/"
        },
        "id": "iAFW8NvyGPdZ",
        "outputId": "94f152b6-2c23-4d25-d0b3-f943cc6c8bad"
      },
      "execution_count": null,
      "outputs": [
        {
          "output_type": "stream",
          "name": "stdout",
          "text": [
            "Model: \"sequential_1\"\n",
            "_________________________________________________________________\n",
            " Layer (type)                Output Shape              Param #   \n",
            "=================================================================\n",
            " embedding_1 (Embedding)     (None, None, 16)          320000    \n",
            "                                                                 \n",
            " bidirectional_2 (Bidirecti  (None, None, 128)         41472     \n",
            " onal)                                                           \n",
            "                                                                 \n",
            " dropout_2 (Dropout)         (None, None, 128)         0         \n",
            "                                                                 \n",
            " bidirectional_3 (Bidirecti  (None, 64)                41216     \n",
            " onal)                                                           \n",
            "                                                                 \n",
            " dense_2 (Dense)             (None, 64)                4160      \n",
            "                                                                 \n",
            " dropout_3 (Dropout)         (None, 64)                0         \n",
            "                                                                 \n",
            " dense_3 (Dense)             (None, 1)                 65        \n",
            "                                                                 \n",
            "=================================================================\n",
            "Total params: 406913 (1.55 MB)\n",
            "Trainable params: 406913 (1.55 MB)\n",
            "Non-trainable params: 0 (0.00 Byte)\n",
            "_________________________________________________________________\n"
          ]
        }
      ]
    },
    {
      "cell_type": "markdown",
      "source": [
        "### Select the loss function, optimizer, and evaluation metric\n",
        "\n",
        "The model needs a loss function and an optimizer for training. Since this is a binary classification problem and the model outputs a probability, we will use the `BinaryCrossentropy` loss function.\n",
        "\n",
        "We will go ahead and configure the RNN model to use an optimizer (`Adam`) and the `BinaryCrossentropy` loss function. Also, we will start off with a learning rate of 0.0005. Implementing gradient clipping by using `clipnorm=1` limits the magnitude of the gradients during backpropagation to prevent large updates that can destabilize training. This is particularly useful in RNNs / LSTMs, where exploding gradients can be an issue. Setting `from_logits=True` helps extract the logits (raw, unnormalized prediction scores) from the RNN model's outputs and uses the sigmoid function to convert the logits into normalized probabilities.\n",
        "\n",
        "Additionally, we will use `BinaryAccuracy` for the metric of our binary classifier. Given the RNN model will output a probability, we will define a `threshold` of 0.5. This implies that if the probability output by the model is greater than or equal to 0.5, we will label it as 1 (*positive* sentiment), while if the probability is less than 0.5, we will label it as 0 (*negative* sentiment).\n",
        "\n",
        "Finally, we will compile the RNN model."
      ],
      "metadata": {
        "id": "qXg2ESqHG0Q7"
      }
    },
    {
      "cell_type": "code",
      "source": [
        "# Define the scope for distributed training using the TPUStrategy.\n",
        "with strategy.scope():\n",
        "  # Compile the model.\n",
        "  model.compile(\n",
        "    optimizer=tf.keras.optimizers.Adam(learning_rate=0.0005, clipnorm=1.0), # Pick the optimizer, learning rate, and implement gradient clipping.\n",
        "    loss=tf.keras.losses.BinaryCrossentropy(from_logits=True), # Select the loss function for the logits (raw prediction scores).\n",
        "    metrics=[tf.metrics.BinaryAccuracy(threshold=0.5)]) # Choose an evaluation metric and a threshold."
      ],
      "metadata": {
        "id": "L8CpgvmKZG4N",
        "collapsed": true
      },
      "execution_count": null,
      "outputs": []
    },
    {
      "cell_type": "markdown",
      "source": [
        "### Define callbacks"
      ],
      "metadata": {
        "id": "aE_Yk23IG5Rg"
      }
    },
    {
      "cell_type": "markdown",
      "source": [
        "We will set up an `EarlyStopping` callback to save resources and stop training when there is no improvement in terms of minimizing the loss and improving the accuracy of the RNN model."
      ],
      "metadata": {
        "id": "EraJqetRG8zN"
      }
    },
    {
      "cell_type": "code",
      "source": [
        "# Define an early stopping callback.\n",
        "early_stopping = EarlyStopping(\n",
        "    monitor='val_loss', # Monitor the validation loss.\n",
        "    patience=3, # The number of epochs with no improvement after which training will be stopped.\n",
        "    restore_best_weights=True # Restore model weights from the epoch with the best value of the validation loss.\n",
        ")"
      ],
      "metadata": {
        "id": "5XLFzTapOU47"
      },
      "execution_count": null,
      "outputs": []
    },
    {
      "cell_type": "markdown",
      "source": [
        "We will also use the `ReduceLROnPlateau` callback to monitor the validation loss and reduce the learning rate if the validation loss does not improve for a predefined number of epochs."
      ],
      "metadata": {
        "id": "DeCxvGwEHGuN"
      }
    },
    {
      "cell_type": "code",
      "source": [
        "# Define a callback for reducing the learning rate as required.\n",
        "reduce_lr = ReduceLROnPlateau(\n",
        "    monitor='val_loss', # Monitor the validation loss.\n",
        "    factor=0.2, # Reduce the learning rate by a factor of 0.2 if the validation loss does not improve for 'patience' epochs.\n",
        "    patience=2, # The number of epochs with no improvement in the validation loss, after which the learning rate will be reduced.\n",
        "    min_lr=0.0001) # Minimum learning rate."
      ],
      "metadata": {
        "id": "V2kmDAtNn770"
      },
      "execution_count": null,
      "outputs": []
    },
    {
      "cell_type": "markdown",
      "source": [
        "### Train the model"
      ],
      "metadata": {
        "id": "SBZ0Q5RHJN7t"
      }
    },
    {
      "cell_type": "markdown",
      "source": [
        "Let us go ahead and train our RNN model and fit it to the training data and validate it on the validation data."
      ],
      "metadata": {
        "id": "YTLh34IgF5Xw"
      }
    },
    {
      "cell_type": "code",
      "source": [
        "# Number of epochs to train the data.\n",
        "epochs = 50\n",
        "\n",
        "# Train and fit the model.\n",
        "history = model.fit(\n",
        "    train_ds,\n",
        "    validation_data=val_ds,\n",
        "    epochs=epochs,\n",
        "    callbacks=[early_stopping, reduce_lr],\n",
        "    verbose=1)"
      ],
      "metadata": {
        "id": "ZmYABfjZG56a",
        "colab": {
          "base_uri": "https://localhost:8080/"
        },
        "outputId": "ef4ec17f-34c5-4270-f779-8eedb6936b8a"
      },
      "execution_count": null,
      "outputs": [
        {
          "output_type": "stream",
          "name": "stdout",
          "text": [
            "Epoch 1/50\n",
            "1250/1250 [==============================] - 104s 66ms/step - loss: 0.8244 - binary_accuracy: 0.7335 - val_loss: 0.4749 - val_binary_accuracy: 0.7785 - lr: 5.0000e-04\n",
            "Epoch 2/50\n",
            "1250/1250 [==============================] - 74s 59ms/step - loss: 0.4673 - binary_accuracy: 0.7819 - val_loss: 0.4573 - val_binary_accuracy: 0.7801 - lr: 5.0000e-04\n",
            "Epoch 3/50\n",
            "1250/1250 [==============================] - 74s 59ms/step - loss: 0.4515 - binary_accuracy: 0.7887 - val_loss: 0.4500 - val_binary_accuracy: 0.7940 - lr: 5.0000e-04\n",
            "Epoch 4/50\n",
            "1250/1250 [==============================] - 74s 59ms/step - loss: 0.4436 - binary_accuracy: 0.7923 - val_loss: 0.4465 - val_binary_accuracy: 0.7811 - lr: 5.0000e-04\n",
            "Epoch 5/50\n",
            "1250/1250 [==============================] - 74s 59ms/step - loss: 0.4388 - binary_accuracy: 0.7943 - val_loss: 0.4441 - val_binary_accuracy: 0.7945 - lr: 5.0000e-04\n",
            "Epoch 6/50\n",
            "1250/1250 [==============================] - 74s 59ms/step - loss: 0.4351 - binary_accuracy: 0.7956 - val_loss: 0.4410 - val_binary_accuracy: 0.7907 - lr: 5.0000e-04\n",
            "Epoch 7/50\n",
            "1250/1250 [==============================] - 74s 59ms/step - loss: 0.4321 - binary_accuracy: 0.7972 - val_loss: 0.4430 - val_binary_accuracy: 0.7922 - lr: 5.0000e-04\n",
            "Epoch 8/50\n",
            "1250/1250 [==============================] - 75s 60ms/step - loss: 0.4298 - binary_accuracy: 0.7987 - val_loss: 0.4390 - val_binary_accuracy: 0.7916 - lr: 5.0000e-04\n",
            "Epoch 9/50\n",
            "1250/1250 [==============================] - 74s 60ms/step - loss: 0.4280 - binary_accuracy: 0.7993 - val_loss: 0.4411 - val_binary_accuracy: 0.7975 - lr: 5.0000e-04\n",
            "Epoch 10/50\n",
            "1250/1250 [==============================] - 74s 60ms/step - loss: 0.4258 - binary_accuracy: 0.8005 - val_loss: 0.4382 - val_binary_accuracy: 0.7874 - lr: 5.0000e-04\n",
            "Epoch 11/50\n",
            "1250/1250 [==============================] - 74s 59ms/step - loss: 0.4242 - binary_accuracy: 0.8008 - val_loss: 0.4378 - val_binary_accuracy: 0.7898 - lr: 5.0000e-04\n",
            "Epoch 12/50\n",
            "1250/1250 [==============================] - 74s 59ms/step - loss: 0.4226 - binary_accuracy: 0.8019 - val_loss: 0.4399 - val_binary_accuracy: 0.7966 - lr: 5.0000e-04\n",
            "Epoch 13/50\n",
            "1250/1250 [==============================] - 74s 59ms/step - loss: 0.4206 - binary_accuracy: 0.8033 - val_loss: 0.4405 - val_binary_accuracy: 0.7933 - lr: 5.0000e-04\n",
            "Epoch 14/50\n",
            "1250/1250 [==============================] - 74s 60ms/step - loss: 0.4123 - binary_accuracy: 0.8080 - val_loss: 0.4389 - val_binary_accuracy: 0.7966 - lr: 1.0000e-04\n"
          ]
        }
      ]
    },
    {
      "cell_type": "markdown",
      "source": [
        "## Evaluate the model"
      ],
      "metadata": {
        "id": "q1a7Z_rWH-rq"
      }
    },
    {
      "cell_type": "markdown",
      "source": [
        "In this section, we will perform the following tasks.\n",
        "\n",
        "\n",
        "*   Evaluate how the RNN model performs with the test data.\n",
        "*   Plot the loss and accuracy of the RNN model with the training and validation data.\n",
        "*   Have the RNN model classify sentiments across some unseen data that we will feed it with.\n",
        "*   Plot the confusion matrix to investigate the RNN model in terms of the false positives and false negatives."
      ],
      "metadata": {
        "id": "J8tfa1bAVD-E"
      }
    },
    {
      "cell_type": "markdown",
      "source": [
        "### Performance on test data"
      ],
      "metadata": {
        "id": "eXtN_vjScxqZ"
      }
    },
    {
      "cell_type": "markdown",
      "source": [
        "Let us evaluate the RNN model and see how it performs on the test data in terms of the loss and accuracy."
      ],
      "metadata": {
        "id": "Ph2twS4xIHb_"
      }
    },
    {
      "cell_type": "code",
      "source": [
        "# Evaluate the model in terms of the loss and accuracy on the test data.\n",
        "loss, accuracy = model.evaluate(test_ds)\n",
        "\n",
        "print(\"Loss: \", loss)\n",
        "print(\"Accuracy: \", accuracy)"
      ],
      "metadata": {
        "id": "044aMk5FIMHf",
        "colab": {
          "base_uri": "https://localhost:8080/"
        },
        "outputId": "3d19235f-0510-4004-8363-e2217fd11199"
      },
      "execution_count": null,
      "outputs": [
        {
          "output_type": "stream",
          "name": "stdout",
          "text": [
            "1/1 [==============================] - 1s 911ms/step - loss: 0.4167 - binary_accuracy: 0.8128\n",
            "Loss:  0.41666948795318604\n",
            "Accuracy:  0.8128491640090942\n"
          ]
        }
      ]
    },
    {
      "cell_type": "markdown",
      "source": [
        "### Plot the training and validation loss and accuracy"
      ],
      "metadata": {
        "id": "XdtAQa8TfR7M"
      }
    },
    {
      "cell_type": "markdown",
      "source": [
        "Let us plot the accuracy and loss of the RNN model for the training and validation data and investigate if we are overfitting or underfitting the data. The `history` objects contains information about the training process that we will leverage."
      ],
      "metadata": {
        "id": "9_yaETvULUCX"
      }
    },
    {
      "cell_type": "code",
      "source": [
        "history_dict = history.history\n",
        "# Explore the information about the training process available in the 'history' object.\n",
        "history_dict.keys()\n",
        "\n",
        "# Training accuracy.\n",
        "acc = history_dict['binary_accuracy']\n",
        "\n",
        "# Validation accuracy.\n",
        "val_acc = history_dict['val_binary_accuracy']\n",
        "\n",
        "# Training loss.\n",
        "loss = history_dict['loss']\n",
        "\n",
        "# Validation loss.\n",
        "val_loss = history_dict['val_loss']\n",
        "\n",
        "# Number of epochs used for training.\n",
        "epochs = range(1, len(acc) + 1)"
      ],
      "metadata": {
        "id": "BrKQ4YFaNy0R"
      },
      "execution_count": null,
      "outputs": []
    },
    {
      "cell_type": "markdown",
      "source": [
        "We will now plot the training and validation accuracy of the RNN model."
      ],
      "metadata": {
        "id": "4On-pr5PT50B"
      }
    },
    {
      "cell_type": "code",
      "source": [
        "# Function to plot the training and validation accuracy.\n",
        "def plot_accuracy(history):\n",
        "  # Plot the training & validation accuracy values.\n",
        "  plt.figure(figsize=(12, 4))\n",
        "  plt.plot(epochs, acc, label='accuracy')\n",
        "  plt.plot(epochs, val_acc, label='val_accuracy')\n",
        "  plt.title('Model Accuracy')\n",
        "  plt.xlabel('Epoch')\n",
        "  plt.ylabel('Accuracy')\n",
        "  plt.legend(['Train', 'Validation'], loc='upper left')\n",
        "  plt.grid(True)\n",
        "  plt.show()"
      ],
      "metadata": {
        "id": "9ZgdPI-4CBd_"
      },
      "execution_count": null,
      "outputs": []
    },
    {
      "cell_type": "code",
      "source": [
        "plot_accuracy(history)"
      ],
      "metadata": {
        "id": "Y791s_FDH-gy",
        "colab": {
          "base_uri": "https://localhost:8080/",
          "height": 410
        },
        "outputId": "743df00e-77bc-4523-b3af-17fd583e1fcf"
      },
      "execution_count": null,
      "outputs": [
        {
          "output_type": "display_data",
          "data": {
            "text/plain": [
              "<Figure size 1200x400 with 1 Axes>"
            ],
            "image/png": "[encoded data removed]"
          },
          "metadata": {}
        }
      ]
    },
    {
      "cell_type": "markdown",
      "source": [
        "Let us plot the training and validation loss of the RNN model."
      ],
      "metadata": {
        "id": "WLWR9KEyUBJ_"
      }
    },
    {
      "cell_type": "code",
      "source": [
        "# Function to plot the training and validation loss.\n",
        "def plot_loss(history):\n",
        "  # Plot the training & validation loss values.\n",
        "  plt.figure(figsize=(12, 4))\n",
        "  plt.plot(epochs, loss, label='loss')\n",
        "  plt.plot(epochs, val_loss, label='val_loss')\n",
        "  plt.title('Model Loss')\n",
        "  plt.xlabel('Epoch')\n",
        "  plt.ylabel('Loss')\n",
        "  plt.legend(['Train', 'Validation'], loc='upper left')\n",
        "  plt.grid(True)\n",
        "  plt.show()"
      ],
      "metadata": {
        "id": "3xb8ffqJdB77"
      },
      "execution_count": null,
      "outputs": []
    },
    {
      "cell_type": "code",
      "source": [
        "plot_loss(history)"
      ],
      "metadata": {
        "id": "M4CFIxLDdDUJ",
        "colab": {
          "base_uri": "https://localhost:8080/",
          "height": 410
        },
        "outputId": "a65092d4-fc4f-448f-8802-3005cb17d858"
      },
      "execution_count": null,
      "outputs": [
        {
          "output_type": "display_data",
          "data": {
            "text/plain": [
              "<Figure size 1200x400 with 1 Axes>"
            ],
            "image/png": "[encoded data removed]"
          },
          "metadata": {}
        }
      ]
    },
    {
      "cell_type": "markdown",
      "source": [
        "### Test the model with unseen data"
      ],
      "metadata": {
        "id": "65zNig2_cmkc"
      }
    },
    {
      "cell_type": "markdown",
      "source": [
        "We will feed the RNN model with some random text examples and see how it performs."
      ],
      "metadata": {
        "id": "2C5--MBCf9Si"
      }
    },
    {
      "cell_type": "code",
      "source": [
        "sample_examples = tf.constant([\n",
        "  \"I am doing well\",\n",
        "  \"The movie was okay.\",\n",
        "  \"I have not been keeping well.\",\n",
        "  \"It's a bright sunny day, let's go fishing!\",\n",
        "  \"Great!\",\n",
        "  \"Disaster!\",\n",
        "  \"I am feeling confident\",\n",
        "  \"I am not feeling confident\",\n",
        "])\n",
        "vectorize_layer.adapt(sample_examples)"
      ],
      "metadata": {
        "id": "fBSlndIYONYP",
        "collapsed": true
      },
      "execution_count": null,
      "outputs": []
    },
    {
      "cell_type": "markdown",
      "source": [
        "Let us go ahead and define a function that confirms whether the sentiment is *positive* or *negative* based on a threshold of 0.5, as mentioned earlier."
      ],
      "metadata": {
        "id": "skt22bRXgQdq"
      }
    },
    {
      "cell_type": "code",
      "source": [
        "# Output the sentiment of the given example based on a threshold.\n",
        "def interpret_predictions(predictions):\n",
        "    results = []\n",
        "    for pred in predictions:\n",
        "        if pred >= 0.5:\n",
        "          results.append(\"Positive Sentiment\")\n",
        "        else:\n",
        "          results.append(\"Negative Sentiment\")\n",
        "    return results"
      ],
      "metadata": {
        "id": "pm2GY-VokfG7"
      },
      "execution_count": null,
      "outputs": []
    },
    {
      "cell_type": "code",
      "source": [
        "# Vectorize the sample text examples.\n",
        "vectorized_examples = vectorize_layer(sample_examples)\n",
        "\n",
        "# Predict the sentiment of the sample text examples.\n",
        "sample_predictions = model.predict(vectorized_examples)\n",
        "\n",
        "# Interpret the predicted sentiments of the sample data.\n",
        "sentiment_results = interpret_predictions(sample_predictions)\n",
        "\n",
        "for result in sentiment_results:\n",
        "    print(result)"
      ],
      "metadata": {
        "id": "Ki0mjXBajEP8",
        "colab": {
          "base_uri": "https://localhost:8080/"
        },
        "outputId": "756cbe88-77fd-4d8f-a0a0-1b922f07bfa4"
      },
      "execution_count": null,
      "outputs": [
        {
          "output_type": "stream",
          "name": "stdout",
          "text": [
            "1/1 [==============================] - 2s 2s/step\n",
            "Negative Sentiment\n",
            "Positive Sentiment\n",
            "Negative Sentiment\n",
            "Positive Sentiment\n",
            "Negative Sentiment\n",
            "Negative Sentiment\n",
            "Negative Sentiment\n",
            "Negative Sentiment\n"
          ]
        }
      ]
    },
    {
      "cell_type": "markdown",
      "source": [
        "Investigate the probability values of the output predictions of the sample text examples to understand how close or off the predictions of the sentiments are."
      ],
      "metadata": {
        "id": "1kEdYiioWFQR"
      }
    },
    {
      "cell_type": "code",
      "source": [
        "print(sample_predictions)"
      ],
      "metadata": {
        "id": "ZnnFp-udejEs",
        "colab": {
          "base_uri": "https://localhost:8080/"
        },
        "outputId": "690a1c15-c1ff-4c8f-9f5a-6484dd3499f3"
      },
      "execution_count": null,
      "outputs": [
        {
          "output_type": "stream",
          "name": "stdout",
          "text": [
            "[[-0.33334756]\n",
            " [ 0.7553444 ]\n",
            " [-0.80492115]\n",
            " [ 1.1272945 ]\n",
            " [ 0.11409509]\n",
            " [ 0.12926134]\n",
            " [-0.39019266]\n",
            " [ 0.07547656]]\n"
          ]
        }
      ]
    },
    {
      "cell_type": "markdown",
      "source": [
        "### Confusion Matrix"
      ],
      "metadata": {
        "id": "xe8DUNSLjDt3"
      }
    },
    {
      "cell_type": "markdown",
      "source": [
        "We will also plot the confusion matrix to investigate how the RNN model performs in terms of the false positives and false negatives. Let us first get the test predictions, which are probabilities, and convert them to our labels 0 and 1 based on our threshold of 0.5."
      ],
      "metadata": {
        "id": "BjgZgb-IO-_Q"
      }
    },
    {
      "cell_type": "code",
      "source": [
        "# Predict with the test data.\n",
        "test_predictions = model.predict(test_ds)\n",
        "predicted_test_labels = (test_predictions > 0.5).astype(\"int32\")"
      ],
      "metadata": {
        "id": "St3q1M3IkuQL",
        "colab": {
          "base_uri": "https://localhost:8080/"
        },
        "outputId": "58893316-2b4f-4816-f4e0-66f2562a53d7"
      },
      "execution_count": null,
      "outputs": [
        {
          "output_type": "stream",
          "name": "stdout",
          "text": [
            "1/1 [==============================] - 1s 899ms/step\n"
          ]
        }
      ]
    },
    {
      "cell_type": "markdown",
      "source": [
        "Next, we will define and plot the confusion matrix based on the labels in the test data and the labels predicted by the RNN model."
      ],
      "metadata": {
        "id": "sskto2AFnNpV"
      }
    },
    {
      "cell_type": "code",
      "source": [
        "# Confusion matrix.\n",
        "cm = confusion_matrix(test_labels, predicted_test_labels)"
      ],
      "metadata": {
        "id": "xGO7K1jbVwLj"
      },
      "execution_count": null,
      "outputs": []
    },
    {
      "cell_type": "code",
      "source": [
        "# Plot the confusion matrix.\n",
        "plt.figure(figsize=(6, 4))\n",
        "sns.heatmap(cm, annot=True, fmt='d', cmap='Blues', xticklabels=['Negative', 'Positive'], yticklabels=['Negative', 'Positive'])\n",
        "plt.xlabel('Predicted')\n",
        "plt.ylabel('Actual')\n",
        "plt.title('Confusion Matrix')\n",
        "plt.show()"
      ],
      "metadata": {
        "id": "92OSDsJfV7Ha",
        "colab": {
          "base_uri": "https://localhost:8080/",
          "height": 410
        },
        "outputId": "483d9602-22e4-4252-9cd9-573558cc11a9"
      },
      "execution_count": null,
      "outputs": [
        {
          "output_type": "display_data",
          "data": {
            "text/plain": [
              "<Figure size 600x400 with 2 Axes>"
            ],
            "image/png": "[encoded data removed]"
          },
          "metadata": {}
        }
      ]
    },
    {
      "cell_type": "markdown",
      "source": [
        "## Thoughts"
      ],
      "metadata": {
        "id": "PSige5D1pAOM"
      }
    },
    {
      "cell_type": "markdown",
      "source": [
        "The RNN model has an accuracy of about 81% and has about 23 false positives and 44 false negatives out of 358 tweets. The numbers *may* slightly vary across separate occasions of training. However, it is important to note that this is a quick and dirty implementation of a very simple RNN model, and the results are not too bad based on the same.\n",
        "\n",
        "It is also worth noting that while the training and validation loss decreases with time, the accuracy increases, before almost stabilizing and reaching a stage where there is no further noticeable improvement. Therefore, it is unlikely that we are overfitting or underfitting the data. Although the training accuracy may seem to increase and the training loss may seem to decrease towards the end of the training indicating that the model may be prone to overfitting the training data, they would have eventually stabilized, had we allowed the training to continue by not using `EarlyStopping`. Additionally, the validation accuracy may seem to be unstable, but would have eventually stabilized had we not been using `EarlyStopping`. This can be confirmed by looking at the validation loss, that does seem to stabilize even with `EarlyStopping`."
      ],
      "metadata": {
        "id": "bAahXy84UUaW"
      }
    },
    {
      "cell_type": "markdown",
      "source": [
        "## Next steps"
      ],
      "metadata": {
        "id": "FQtoZXDOUZLc"
      }
    },
    {
      "cell_type": "markdown",
      "source": [
        "Of course, there is a definite scope for improvement in this work. There are multiple ways to further develop this dirty implementation and improve the RNN model's performance / accuracy for the sentiment analysis of the tweets. Some of those are listed below.\n",
        "\n",
        "\n",
        "\n",
        "1.   **Modifying the Architecture:** Adding more fully connected / dense layers or increasing the number of units in each layer can help the model learn more complex patterns. However, to prevent further overfitting of the training data, simplifying the architecture of the model can help instead of adding more layers.\n",
        "2.   **Hyperparameter Tuning:** Experimenting with different learning rates, batch sizes, epochs, etc. can help.\n",
        "3.   **Regularization:** Adjusting dropout rates and the strength of `L2` regularization can be used to control overfitting. Other techniques that can be used to prevent overfitting include learning rate warmup, or an advanced technique, such as label smoothing.\n",
        "4.   **Data Augmentation:** Using techniques to augment the dataset can help, examples below.\n",
        "  *   **Synonym Replacement:** Replace words with their synonyms.\n",
        "  *   **Random Insertion:** Insert random words.\n",
        "  *   **Random Swap:** Swap words in a sentence.\n",
        "  *   **Random Deletion:** Delete random words.\n",
        "5.   **Pre-trained Embeddings:** Using pre-trained word embeddings such as [GloVe](https://nlp.stanford.edu/projects/glove/) or [FastText](https://fasttext.cc/) can improve the performance of the model.\n",
        "6.   **Ensemble Methods:** Using ensemble methods, such as combining predictions from multiple models can improve performance.\n",
        "7.   **Fine-tuning Pre-trained Large Language Models (LLMs):** Using pre-trained LLMs, such as [BERT](https://huggingface.co/docs/transformers/en/model_doc/bert), [GPT-4](https://openai.com/index/gpt-4/), or similar models from the [Hugging Face Transformers library](https://huggingface.co/docs/transformers/en/index) can significantly uplift the performance of word-based models.\n",
        "8.   **Hyperparameter Optimization:** Using libraries, such as [Keras Tuner](https://keras.io/keras_tuner/) or [Optuna](https://optuna.org/) to find the best hyperparameters for the RNN model."
      ],
      "metadata": {
        "id": "3FBafE1YnhyQ"
      }
    }
  ]
}